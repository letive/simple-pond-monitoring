{
 "cells": [
  {
   "cell_type": "code",
   "execution_count": 1,
   "metadata": {},
   "outputs": [],
   "source": [
    "import numpy as np\n",
    "from scipy.integrate import quad\n",
    "from scipy.optimize import curve_fit"
   ]
  },
  {
   "cell_type": "markdown",
   "metadata": {},
   "source": [
    "## References"
   ]
  },
  {
   "cell_type": "code",
   "execution_count": null,
   "metadata": {},
   "outputs": [],
   "source": [
    "def int_func(x):\n",
    "    if x < 3:\n",
    "        return x**2\n",
    "    else:\n",
    "        return 2 + x**2"
   ]
  },
  {
   "cell_type": "code",
   "execution_count": null,
   "metadata": {},
   "outputs": [],
   "source": [
    "def func(x, a):\n",
    "    # int_func = lambda y: y**2\n",
    "\n",
    "    res = np.asarray([a*quad(int_func, 0, t)[0] for t in x])\n",
    "    return res"
   ]
  },
  {
   "cell_type": "code",
   "execution_count": null,
   "metadata": {},
   "outputs": [],
   "source": [
    "curve_fit(func, [1,2,3], [6,3,4])"
   ]
  },
  {
   "cell_type": "markdown",
   "metadata": {},
   "source": [
    "## Fungsi"
   ]
  },
  {
   "cell_type": "code",
   "execution_count": 2,
   "metadata": {},
   "outputs": [],
   "source": [
    "from lib.uem.metrices import Compute\n",
    "from lib.uem.biomass import Biomassa\n",
    "from lib.helpers import price_function, source_data, score_csc_compute\n",
    "from lib.uem.feeding_rate import feeding_rate\n",
    "\n",
    "f_uia, f_o2, f_temp, temperature = source_data(\n",
    "    path = \"data/growth_full.csv\",\n",
    "    temp_suitable_min = 25,\n",
    "    temp_suitable_max = 33,\n",
    "    temp_optimal_min = 28,\n",
    "    temp_optimal_max = 32,\n",
    "    do_suitable_min = 4,\n",
    "    do_suitable_max = 10,\n",
    "    do_optimal_min = 6,\n",
    "    do_optimal_max = 9,\n",
    "    ua_suitable_min = 0.00,\n",
    "    ua_suitable_max = 0.16,\n",
    "    ua_optimal_min = 0.00,\n",
    "    ua_optimal_max = 0.06,\n",
    ")\n",
    "\n",
    "\n",
    "csc_suitable_min = 0.00\n",
    "csc_suitable_max = 5\n",
    "csc_optimal_min = 0.00\n",
    "csc_optimal_max = 3"
   ]
  },
  {
   "cell_type": "code",
   "execution_count": 3,
   "metadata": {},
   "outputs": [],
   "source": [
    "from lib.uem.integrate_fr import Fungsi"
   ]
  },
  {
   "cell_type": "markdown",
   "metadata": {},
   "source": [
    "### Testing using dummy function"
   ]
  },
  {
   "cell_type": "code",
   "execution_count": null,
   "metadata": {},
   "outputs": [],
   "source": [
    "def dummy_func(T, alpha):\n",
    "    res = np.asarray([alpha * Fungsi(0, t, f_uia, f_o2, f_temp, 0, 0).get_integral()[0] for t in T])\n",
    "    return res"
   ]
  },
  {
   "cell_type": "code",
   "execution_count": null,
   "metadata": {},
   "outputs": [],
   "source": [
    "curve_fit(dummy_func, [1,2,3], [10, 30, 20])"
   ]
  },
  {
   "cell_type": "code",
   "execution_count": 8,
   "metadata": {},
   "outputs": [],
   "source": [
    "def single_wt1(t, sr, m, alpha):\n",
    "    # print(t)\n",
    "    try:\n",
    "        feedRate = feeding_rate(0, float(temperature[temperature[\"DOC\"]==t][\"Temp\"]), 0)\n",
    "    except  :\n",
    "        feedRate = 0\n",
    "   \n",
    "    if t == 0:\n",
    "        score_csc = score_csc_compute(0/1000, 0.01, csc_suitable_min, csc_suitable_max, csc_optimal_max)\n",
    "        obj = Biomassa(0, t, 40, 0.05, alpha, 100, sr, m, [0.1, 0.1, 0.1], [60, 70, 80], f_uia, f_o2, f_temp, score_csc, feedRate, 0, final_doc=120)\n",
    "        wt = obj.wt()\n",
    "        biomass = obj.biomassa()\n",
    "        cum_integral = obj._fr()\n",
    "        return wt, biomass, cum_integral\n",
    "    else:\n",
    "        wt_1, bio_1, cum_1 = single_wt1(t-1, sr, m, alpha)\n",
    "        score_csc = score_csc_compute(bio_1/1000, 1000, csc_suitable_min, csc_suitable_max, csc_optimal_max)\n",
    "        obj = Biomassa(t-1, t, 40, 0.05, alpha, 100, sr, m, [0.1, 0.1, 0.1], [60, 70, 80], f_uia, f_o2, f_temp, score_csc, feedRate, cum_1, 120)\n",
    "        wt = obj.wt()\n",
    "        biomass = obj.biomassa()\n",
    "        cum_integral = cum_1 + obj._fr()\n",
    "\n",
    "        return wt, biomass, cum_integral\n",
    "\n",
    "def single_wt(T, sr, m, alpha):\n",
    "    \n",
    "    weight = []\n",
    "    biomassa = []\n",
    "    cum_integral = 0\n",
    "    for i in range(int(T) + 1):\n",
    "        try:\n",
    "            feedRate = feeding_rate(0, float(temperature[temperature[\"DOC\"]==i-1][\"Temp\"]), 0)\n",
    "        except  :\n",
    "            feedRate = 0\n",
    "\n",
    "        if i == 0:\n",
    "            score_csc = score_csc_compute(0/1000, 0.01, csc_suitable_min, csc_suitable_max, csc_optimal_max)\n",
    "            obj = Biomassa(0, i, 40, 0.05, alpha, 100, sr, m, [0.1, 0.1, 0.1], [60, 70, 80], f_uia, f_o2, f_temp, score_csc, feedRate, cum_integral, final_doc=120)\n",
    "            wt = obj.wt()\n",
    "            biomass = obj.biomassa()\n",
    "            cum_integral = cum_integral + obj._fr()\n",
    "        else:\n",
    "            score_csc = score_csc_compute(biomassa[-1]/1000, 1000, csc_suitable_min, csc_suitable_max, csc_optimal_max)\n",
    "            obj = Biomassa(i-1, i, 40, 0.05, alpha, 100, sr, m, [0.1, 0.1, 0.1], [60, 70, 80], f_uia, f_o2, f_temp, score_csc, feedRate, cum_integral, 120)\n",
    "            wt = obj.wt()\n",
    "            biomass = obj.biomassa()\n",
    "            cum_integral = cum_integral + obj._fr()\n",
    "        \n",
    "\n",
    "        weight.append(wt)\n",
    "        biomassa.append(biomass)\n",
    "\n",
    "    return wt\n",
    "\n",
    "def multi_wt(T, alpha):\n",
    "    sr = 0.92\n",
    "    m = -np.log(sr)/T[-1]\n",
    "    # print(T)\n",
    "    # res = np.asarray([single_wt1(t, sr, m, alpha)[0] for t in T])\n",
    "    res = np.asarray([single_wt(t, sr, m, alpha) for t in T])\n",
    "    return res"
   ]
  },
  {
   "cell_type": "code",
   "execution_count": 10,
   "metadata": {},
   "outputs": [
    {
     "data": {
      "text/plain": [
       "(array([4.38622441e-05]), array([[1.69381199e-11]]))"
      ]
     },
     "execution_count": 10,
     "metadata": {},
     "output_type": "execute_result"
    }
   ],
   "source": [
    "curve_fit(multi_wt, [1, 2, 3, 4, 5, 6, 7, 8, 9, 10], [0.0145, 0.028, 0.0415, 0.055, 0.0685, 0.082, 0.0955, 0.109, 0.1225, 0.2025])"
   ]
  },
  {
   "cell_type": "code",
   "execution_count": 8,
   "metadata": {},
   "outputs": [],
   "source": [
    "import pandas as pd\n",
    "\n",
    "df = pd.read_csv(\"data/growth_full.csv\", sep=\";\")"
   ]
  },
  {
   "cell_type": "code",
   "execution_count": 17,
   "metadata": {},
   "outputs": [
    {
     "data": {
      "text/plain": [
       "(array([1.34078635e-07]), array([[4.16945606e-16]]))"
      ]
     },
     "execution_count": 17,
     "metadata": {},
     "output_type": "execute_result"
    }
   ],
   "source": [
    "curve_fit(multi_wt, df[\"DOC\"][:20].tolist(), df[\"ABW\"][:20].tolist())"
   ]
  },
  {
   "cell_type": "code",
   "execution_count": 15,
   "metadata": {},
   "outputs": [
    {
     "data": {
      "text/plain": [
       "[1, 2, 3, 4, 5, 6, 7, 8, 9, 10]"
      ]
     },
     "execution_count": 15,
     "metadata": {},
     "output_type": "execute_result"
    }
   ],
   "source": [
    "df[\"DOC\"].tolist()[:10]"
   ]
  },
  {
   "cell_type": "code",
   "execution_count": null,
   "metadata": {},
   "outputs": [],
   "source": []
  }
 ],
 "metadata": {
  "kernelspec": {
   "display_name": "Python 3.10.1 64-bit",
   "language": "python",
   "name": "python3"
  },
  "language_info": {
   "codemirror_mode": {
    "name": "ipython",
    "version": 3
   },
   "file_extension": ".py",
   "mimetype": "text/x-python",
   "name": "python",
   "nbconvert_exporter": "python",
   "pygments_lexer": "ipython3",
   "version": "3.10.1"
  },
  "orig_nbformat": 4,
  "vscode": {
   "interpreter": {
    "hash": "7e1998ff7f8aa20ada591c520b972326324e5ea05489af9e422744c7c09f6dad"
   }
  }
 },
 "nbformat": 4,
 "nbformat_minor": 2
}
