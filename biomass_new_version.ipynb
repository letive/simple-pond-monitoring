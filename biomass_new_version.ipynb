{
 "cells": [
  {
   "cell_type": "code",
   "execution_count": null,
   "metadata": {},
   "outputs": [],
   "source": [
    "import numpy as np\n",
    "from lib.helpers import heaviside_step\n",
    "\n",
    "\n",
    "class Biomassa:\n",
    "    def __init__(\n",
    "        self,\n",
    "        t0,\n",
    "        t,\n",
    "        wn,\n",
    "        w0,\n",
    "        alpha,\n",
    "        n0: int,\n",
    "        sr: float,\n",
    "        m: float,\n",
    "        ph: list,\n",
    "        doc: list,\n",
    "        f_uia,\n",
    "        f_o2,\n",
    "        f_temp,\n",
    "        score_csc,\n",
    "        feeding_rate,\n",
    "        alpha2,\n",
    "        alpha3,\n",
    "        alpha4,\n",
    "        alpha5,\n",
    "        alpha6,\n",
    "        final_doc: int = 120,\n",
    "    ):\n",
    "        self.t0 = t0\n",
    "        self.t = t\n",
    "        self.wn = wn\n",
    "        self.w0 = w0\n",
    "        self.alpha = alpha\n",
    "        self.n0 = n0\n",
    "        self.sr = sr\n",
    "        self.m = m\n",
    "        self.ph = ph\n",
    "        self.doc = doc\n",
    "        self.final_doc = final_doc\n",
    "\n",
    "        self.f_uia = f_uia\n",
    "        self.f_o2 = f_o2\n",
    "        self.f_temp = f_temp\n",
    "        self.score_csc = score_csc\n",
    "        self.feeding_rate = feeding_rate\n",
    "\n",
    "        self.alpha2 = alpha2\n",
    "        self.alpha3 = alpha3\n",
    "        self.alpha4 = alpha4\n",
    "        self.alpha5 = alpha5\n",
    "        self.alpha6 = alpha6\n",
    "\n",
    "\n",
    "    def wt(self):\n",
    "        fr = (\n",
    "            self.alpha * (self.t - self.t0) \n",
    "            + self.alpha2 * self.f_temp(self.t) \n",
    "            + self.alpha3 * self.f_o2(self.t) \n",
    "            + self.alpha4 * self.f_uia(self.t)\n",
    "            + self.alpha5 * self.score_csc \n",
    "            + self.alpha6 * self.feeding_rate\n",
    "        )\n",
    "\n",
    "        return (\n",
    "            self.wn ** (1 / 3)\n",
    "            - (self.wn ** (1 / 3) - self.w0 ** (1 / 3))\n",
    "            * np.exp(-1 * fr)\n",
    "        ) ** 3\n",
    "\n",
    "    def population(self):\n",
    "        t = self.t\n",
    "        ph = self.ph\n",
    "        partial_harvest = [\n",
    "            ph[i] * heaviside_step(t - j) for i, j in enumerate(self.doc)\n",
    "        ]\n",
    "\n",
    "        if t >= self.final_doc:\n",
    "            partial_harvest.append(\n",
    "                (self.sr - sum(ph)) * heaviside_step(t - self.final_doc)\n",
    "            )\n",
    "\n",
    "        result = self.n0 * (np.exp(-self.m * t) - sum(partial_harvest))\n",
    "        return result\n",
    "\n",
    "    def biomassa(self):\n",
    "        # biomassa in gram\n",
    "        return self.wt() * self.population()\n",
    "\n",
    "    def biomassa_constant(self):\n",
    "        return self.n0 * self.wt()\n"
   ]
  },
  {
   "cell_type": "code",
   "execution_count": null,
   "metadata": {},
   "outputs": [],
   "source": [
    "from lib.helpers import source_data, score_csc_compute\n",
    "from lib.uem.feeding_rate import feeding_rate\n",
    "\n",
    "f_uia, f_o2, f_temp, temperature = source_data(\n",
    "    # path = \"data/growth_full2.csv\",\n",
    "    path = None,\n",
    "    temp_suitable_min = 25,\n",
    "    temp_suitable_max = 33,\n",
    "    temp_optimal_min = 28,\n",
    "    temp_optimal_max = 32,\n",
    "    do_suitable_min = 4,\n",
    "    do_suitable_max = 10,\n",
    "    do_optimal_min = 6,\n",
    "    do_optimal_max = 9,\n",
    "    ua_suitable_min = 0.00,\n",
    "    ua_suitable_max = 0.16,\n",
    "    ua_optimal_min = 0.00,\n",
    "    ua_optimal_max = 0.06,\n",
    ")\n",
    "\n",
    "csc_suitable_min = 0.00\n",
    "csc_suitable_max = 5\n",
    "csc_optimal_min = 0.00\n",
    "csc_optimal_max = 3"
   ]
  },
  {
   "cell_type": "code",
   "execution_count": null,
   "metadata": {},
   "outputs": [],
   "source": [
    "import functools\n",
    "\n",
    "@functools.lru_cache(maxsize=18000)\n",
    "def single_wt1(t, sr, m, alpha, alpha2, alpha3, alpha4, alpha5,  alpha6):\n",
    "    try:\n",
    "        feedRate = feeding_rate(0, float(temperature[temperature[\"DOC\"]==t][\"Temp\"]), 0)\n",
    "    except  :\n",
    "        feedRate = 0\n",
    "\n",
    "    if t == 0:\n",
    "        score_csc = score_csc_compute(0/1000, 1000, csc_suitable_min, csc_suitable_max, csc_optimal_max)\n",
    "    else:\n",
    "        _, bio_1 = single_wt1(t-1, sr, m, alpha, alpha2, alpha3, alpha4, alpha5, alpha6)\n",
    "        score_csc = score_csc_compute(bio_1/1000, 1000, csc_suitable_min, csc_suitable_max, csc_optimal_max)\n",
    "        \n",
    "    obj = Biomassa(0, t, 40, 0.05, alpha, 100, sr, m, [0.1, 0.1, 0.1], [60, 70, 80], f_uia, f_o2, f_temp, feedRate, score_csc, \n",
    "        alpha2, alpha3, alpha4, alpha5, alpha6, final_doc=120)\n",
    "\n",
    "    return  obj.wt(), obj.biomassa()\n",
    "\n",
    "\n",
    "def multi_wt(T, alpha, alpha2, alpha3, alpha4, alpha5, alpha6):\n",
    "    sr = 0.92\n",
    "    m = -np.log(sr)/T[-1]\n",
    "    res = np.asarray([single_wt1(t, sr, m, alpha, alpha2, alpha3, alpha4, alpha5, alpha6)[0] for t in T])\n",
    "    return res"
   ]
  },
  {
   "cell_type": "code",
   "execution_count": null,
   "metadata": {},
   "outputs": [],
   "source": [
    "from scipy.optimize import curve_fit\n",
    "curve_fit(multi_wt, [1, 2, 3, 4, 5, 6, 7], [0.0145, 0.028, 0.0415, 0.055, 0.0685, 0.082, 0.0955], p0=[0.05, 0.05, 0.05,0.05, 0.05,0.05] , absolute_sigma=True,  method=\"dogbox\", ftol=1e-05)"
   ]
  },
  {
   "cell_type": "code",
   "execution_count": 3,
   "metadata": {},
   "outputs": [],
   "source": [
    "import pandas as pd\n",
    "\n",
    "df = pd.read_csv(\"data/growth_full.csv\", sep=\",\")"
   ]
  },
  {
   "cell_type": "code",
   "execution_count": null,
   "metadata": {},
   "outputs": [],
   "source": [
    "curve_fit(multi_wt, df[\"DOC\"].tolist(), df[\"ABW\"].tolist(), p0=[0.05, 0.05, 0.05,0.05, 0.05,0.05] , method=\"dogbox\", ftol=1e-05)"
   ]
  },
  {
   "cell_type": "markdown",
   "metadata": {},
   "source": [
    "# Plot"
   ]
  },
  {
   "cell_type": "code",
   "execution_count": null,
   "metadata": {},
   "outputs": [],
   "source": [
    "T = 120\n",
    "sr = 0.92\n",
    "m = -np.log(sr)/T\n",
    "\n",
    "weight = []\n",
    "bio = []\n",
    "index = list(range(T+1))\n",
    "for t in index:\n",
    "    wt, biomass = single_wt1(t, sr, m,  0.01604904,  0.09431816,  0.00844429,  0.02735245,  0.05, -0.25474762)\n",
    "    weight.append(wt)\n",
    "    bio.append(biomass)"
   ]
  },
  {
   "cell_type": "code",
   "execution_count": null,
   "metadata": {},
   "outputs": [],
   "source": [
    "import matplotlib.pyplot as plt"
   ]
  },
  {
   "cell_type": "code",
   "execution_count": null,
   "metadata": {},
   "outputs": [],
   "source": [
    "plt.plot(index[:119], bio[:119])"
   ]
  },
  {
   "cell_type": "code",
   "execution_count": null,
   "metadata": {},
   "outputs": [],
   "source": [
    "plt.plot(index[:119], weight[:119])"
   ]
  },
  {
   "cell_type": "code",
   "execution_count": null,
   "metadata": {},
   "outputs": [],
   "source": [
    "obj = Biomassa(0, 1, 40, 0.05,  0.01743061, 100, sr, m, [0.1, 0.1, 0.1], [60, 70, 80], f_uia, f_o2, f_temp, 0, 0, \n",
    "        -0.14014172, -0.0880867 , -0.0330906,  0.05, -0.04210808, final_doc=120)"
   ]
  },
  {
   "cell_type": "code",
   "execution_count": null,
   "metadata": {},
   "outputs": [],
   "source": [
    "obj.wt()"
   ]
  },
  {
   "cell_type": "code",
   "execution_count": null,
   "metadata": {},
   "outputs": [],
   "source": [
    "np.exp(-1 * ( 0.01743061 * (0) +  -0.14014172 * f_temp(0) \n",
    "                            + -0.0880867 * f_o2(0) + -0.0330906 * f_uia(0)))\n",
    "                            # + 1 * score_csc + -0.04210808 * feeding_rate))"
   ]
  },
  {
   "cell_type": "code",
   "execution_count": null,
   "metadata": {},
   "outputs": [],
   "source": [
    "(40**(1/3) - (40**(1/3) - 0.05**(1/3))*1.3)**3"
   ]
  },
  {
   "cell_type": "markdown",
   "metadata": {},
   "source": [
    "## LMFIT"
   ]
  },
  {
   "cell_type": "code",
   "execution_count": null,
   "metadata": {},
   "outputs": [],
   "source": [
    "from lmfit import Model"
   ]
  },
  {
   "cell_type": "code",
   "execution_count": null,
   "metadata": {},
   "outputs": [],
   "source": [
    "xa = np.array([0.5, 0.53, 0.56, 0.59, 0.62, 0.65, 0.68, 0.7, 0.72, 0.74,\n",
    "               0.76, 0.78, 0.8, 0.82])\n",
    "ya = np.array([0.40168, 0.40103999999999995, 0.40027999999999997, 0.39936,\n",
    "               0.39828, 0.397, 0.39544, 0.39424000000000003, 0.39292,\n",
    "               0.39144, 0.38976, 0.38788, 0.38580000000000003, 0.38348])\n",
    "\n",
    "def modelfunc(x, a, b, c):\n",
    "    return (1 + c)/(1 + np.exp((a-x)/b))\n",
    "\n",
    "my_model = Model(modelfunc)\n",
    "params = my_model.make_params(a=1, b=-0.1, c=-0.5)\n",
    "result = my_model.fit(ya, params, x=xa)"
   ]
  },
  {
   "cell_type": "code",
   "execution_count": null,
   "metadata": {},
   "outputs": [],
   "source": [
    "wt_model = Model(multi_wt)\n",
    "params = wt_model.make_params(alpha=0.05, alpha2=0.05, alpha3=0.05, alpha4=0.05, alpha5=0.05, alpha6=0.05)\n",
    "res = wt_model.fit(df[\"ABW\"].tolist(), params, T=df[\"DOC\"].tolist())"
   ]
  },
  {
   "cell_type": "code",
   "execution_count": null,
   "metadata": {},
   "outputs": [],
   "source": [
    "f_o2(102)"
   ]
  },
  {
   "cell_type": "code",
   "execution_count": 1,
   "metadata": {},
   "outputs": [],
   "source": [
    "from lib.parameter_estimation import Estimate"
   ]
  },
  {
   "cell_type": "code",
   "execution_count": 4,
   "metadata": {},
   "outputs": [],
   "source": [
    "obj = Estimate(0, 0.05, 40, 1000, 0.92, [0.1, 0.1, 0.1], [60, 80, 100],  df[\"DOC\"].tolist(), df[\"ABW\"].tolist(), 120)"
   ]
  },
  {
   "cell_type": "code",
   "execution_count": 5,
   "metadata": {},
   "outputs": [
    {
     "data": {
      "text/plain": [
       "(0.016049035645296066,\n",
       " 0.09431816488330128,\n",
       " 0.008444285811812334,\n",
       " 0.02735245164011519,\n",
       " 0.05,\n",
       " -0.2547476247186072)"
      ]
     },
     "execution_count": 5,
     "metadata": {},
     "output_type": "execute_result"
    }
   ],
   "source": [
    "obj.fitting()"
   ]
  },
  {
   "cell_type": "code",
   "execution_count": null,
   "metadata": {},
   "outputs": [],
   "source": []
  }
 ],
 "metadata": {
  "kernelspec": {
   "display_name": "Python 3.10.1 64-bit",
   "language": "python",
   "name": "python3"
  },
  "language_info": {
   "codemirror_mode": {
    "name": "ipython",
    "version": 3
   },
   "file_extension": ".py",
   "mimetype": "text/x-python",
   "name": "python",
   "nbconvert_exporter": "python",
   "pygments_lexer": "ipython3",
   "version": "3.10.1"
  },
  "orig_nbformat": 4,
  "vscode": {
   "interpreter": {
    "hash": "7e1998ff7f8aa20ada591c520b972326324e5ea05489af9e422744c7c09f6dad"
   }
  }
 },
 "nbformat": 4,
 "nbformat_minor": 2
}
