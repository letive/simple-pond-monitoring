{
 "cells": [
  {
   "cell_type": "code",
   "execution_count": 24,
   "metadata": {},
   "outputs": [],
   "source": [
    "import numpy as np"
   ]
  },
  {
   "cell_type": "markdown",
   "metadata": {},
   "source": [
    "## Non Linear Least Square"
   ]
  },
  {
   "cell_type": "markdown",
   "metadata": {},
   "source": []
  },
  {
   "cell_type": "code",
   "execution_count": 2,
   "metadata": {},
   "outputs": [],
   "source": [
    "import lmfit"
   ]
  },
  {
   "cell_type": "code",
   "execution_count": 3,
   "metadata": {},
   "outputs": [
    {
     "name": "stdout",
     "output_type": "stream",
     "text": [
      "\u001b[0;31mType:\u001b[0m        module\n",
      "\u001b[0;31mString form:\u001b[0m <module 'lmfit' from '/Library/Frameworks/Python.framework/Versions/3.10/lib/python3.10/site-packages/lmfit/__init__.py'>\n",
      "\u001b[0;31mFile:\u001b[0m        /Library/Frameworks/Python.framework/Versions/3.10/lib/python3.10/site-packages/lmfit/__init__.py\n",
      "\u001b[0;31mDocstring:\u001b[0m  \n",
      "LMFIT: Non-Linear Least-Squares Minimization and Curve-Fitting for Python.\n",
      "\n",
      "Lmfit provides a high-level interface to non-linear optimization and\n",
      "curve-fitting problems for Python. It builds on the Levenberg-Marquardt\n",
      "algorithm of `scipy.optimize.leastsq`, but also supports most of the other\n",
      "optimization methods present in `scipy.optimize`. It has a number of\n",
      "useful enhancements, including:\n",
      "\n",
      "  * Using Parameter objects instead of plain floats as variables. A\n",
      "    Parameter has a value that can be varied in the fit, fixed, have\n",
      "    upper and/or lower bounds. It can even have a value that is\n",
      "    constrained by an algebraic expression of other Parameter values.\n",
      "\n",
      "  * Ease of changing fitting algorithms. Once a fitting model is set\n",
      "    up, one can change the fitting algorithm without changing the\n",
      "    objective function.\n",
      "\n",
      "  * Improved estimation of confidence intervals. While\n",
      "    `scipy.optimize.leastsq` will automatically calculate uncertainties\n",
      "    and correlations from the covariance matrix, lmfit also has functions\n",
      "    to explicitly explore parameter space to determine confidence levels\n",
      "    even for the most difficult cases.\n",
      "\n",
      "  * Improved curve-fitting with the Model class. This extends the\n",
      "    capabilities of `scipy.optimize.curve_fit`, allowing you to turn a\n",
      "    function that models your data into a Python class that helps you\n",
      "    parametrize and fit data with that model.\n",
      "\n",
      "  * Many built-in models for common lineshapes are included and ready\n",
      "    to use.\n",
      "\n",
      "Copyright (c) 2021 Lmfit Developers ; BSD-3 license ; see LICENSE\n"
     ]
    }
   ],
   "source": [
    "?lmfit"
   ]
  },
  {
   "cell_type": "code",
   "execution_count": 3,
   "metadata": {},
   "outputs": [],
   "source": [
    "import pandas as pd"
   ]
  },
  {
   "cell_type": "code",
   "execution_count": 4,
   "metadata": {},
   "outputs": [],
   "source": [
    "df = pd.read_excel(\"data/data_growth.xlsx\")"
   ]
  },
  {
   "cell_type": "code",
   "execution_count": 20,
   "metadata": {},
   "outputs": [],
   "source": [
    "import matplotlib.pyplot as plt"
   ]
  },
  {
   "cell_type": "code",
   "execution_count": 25,
   "metadata": {},
   "outputs": [],
   "source": [
    "from numpy import linspace, random\n",
    "from scipy.optimize import leastsq\n",
    "\n",
    "# generate synthetic data with noise\n",
    "x = linspace(0, 100)\n",
    "noise = random.normal(size=x.size, scale=0.2)\n",
    "data = 7.5 * np.sin(x*0.22 + 2.5) * np.exp(-x*x*0.01) + noise\n",
    "\n",
    "uncertainty = abs(0.16 + random.normal(size=x.size, scale=0.05))\n",
    "\n",
    "variables = [10.0, 0.2, 3.0, 0.007]\n",
    "# out = leastsq(residual, variables, args=(x, data, uncertainty))"
   ]
  },
  {
   "cell_type": "code",
   "execution_count": 26,
   "metadata": {},
   "outputs": [
    {
     "data": {
      "text/plain": [
       "[<matplotlib.lines.Line2D at 0x11eac7fa0>]"
      ]
     },
     "execution_count": 26,
     "metadata": {},
     "output_type": "execute_result"
    },
    {
     "data": {
      "image/png": "[encoded data removed]",
      "text/plain": [
       "<Figure size 432x288 with 1 Axes>"
      ]
     },
     "metadata": {
      "needs_background": "light"
     },
     "output_type": "display_data"
    }
   ],
   "source": [
    "plt.plot(x, data)"
   ]
  },
  {
   "cell_type": "code",
   "execution_count": 27,
   "metadata": {},
   "outputs": [
    {
     "data": {
      "text/html": [
       "<div>\n",
       "<style scoped>\n",
       "    .dataframe tbody tr th:only-of-type {\n",
       "        vertical-align: middle;\n",
       "    }\n",
       "\n",
       "    .dataframe tbody tr th {\n",
       "        vertical-align: top;\n",
       "    }\n",
       "\n",
       "    .dataframe thead th {\n",
       "        text-align: right;\n",
       "    }\n",
       "</style>\n",
       "<table border=\"1\" class=\"dataframe\">\n",
       "  <thead>\n",
       "    <tr style=\"text-align: right;\">\n",
       "      <th></th>\n",
       "      <th>Temp</th>\n",
       "      <th>DO</th>\n",
       "      <th>NH4</th>\n",
       "      <th>Unnamed: 3</th>\n",
       "      <th>NO2</th>\n",
       "      <th>ABW</th>\n",
       "      <th>DOC</th>\n",
       "    </tr>\n",
       "  </thead>\n",
       "  <tbody>\n",
       "    <tr>\n",
       "      <th>0</th>\n",
       "      <td>M</td>\n",
       "      <td>M</td>\n",
       "      <td>M</td>\n",
       "      <td>A</td>\n",
       "      <td>M</td>\n",
       "      <td>NaN</td>\n",
       "      <td>NaN</td>\n",
       "    </tr>\n",
       "    <tr>\n",
       "      <th>1</th>\n",
       "      <td>29</td>\n",
       "      <td>7.36</td>\n",
       "      <td>0.6</td>\n",
       "      <td>0</td>\n",
       "      <td>NaN</td>\n",
       "      <td>NaN</td>\n",
       "      <td>1.0</td>\n",
       "    </tr>\n",
       "    <tr>\n",
       "      <th>2</th>\n",
       "      <td>29</td>\n",
       "      <td>8.81</td>\n",
       "      <td>0</td>\n",
       "      <td>0</td>\n",
       "      <td>0</td>\n",
       "      <td>NaN</td>\n",
       "      <td>2.0</td>\n",
       "    </tr>\n",
       "    <tr>\n",
       "      <th>3</th>\n",
       "      <td>29</td>\n",
       "      <td>7.74</td>\n",
       "      <td>0</td>\n",
       "      <td>0</td>\n",
       "      <td>NaN</td>\n",
       "      <td>NaN</td>\n",
       "      <td>3.0</td>\n",
       "    </tr>\n",
       "    <tr>\n",
       "      <th>4</th>\n",
       "      <td>28</td>\n",
       "      <td>8.4</td>\n",
       "      <td>0</td>\n",
       "      <td>0</td>\n",
       "      <td>0</td>\n",
       "      <td>NaN</td>\n",
       "      <td>4.0</td>\n",
       "    </tr>\n",
       "    <tr>\n",
       "      <th>...</th>\n",
       "      <td>...</td>\n",
       "      <td>...</td>\n",
       "      <td>...</td>\n",
       "      <td>...</td>\n",
       "      <td>...</td>\n",
       "      <td>...</td>\n",
       "      <td>...</td>\n",
       "    </tr>\n",
       "    <tr>\n",
       "      <th>1692</th>\n",
       "      <td>28.5</td>\n",
       "      <td>5.46</td>\n",
       "      <td>3.3</td>\n",
       "      <td>3</td>\n",
       "      <td>4.5</td>\n",
       "      <td>15.460</td>\n",
       "      <td>69.0</td>\n",
       "    </tr>\n",
       "    <tr>\n",
       "      <th>1693</th>\n",
       "      <td>27.9</td>\n",
       "      <td>6.05</td>\n",
       "      <td>2.9</td>\n",
       "      <td>2.6</td>\n",
       "      <td>4.5</td>\n",
       "      <td>15.604</td>\n",
       "      <td>70.0</td>\n",
       "    </tr>\n",
       "    <tr>\n",
       "      <th>1694</th>\n",
       "      <td>28.3</td>\n",
       "      <td>5.76</td>\n",
       "      <td>2.7</td>\n",
       "      <td>2.9</td>\n",
       "      <td>4.5</td>\n",
       "      <td>15.748</td>\n",
       "      <td>71.0</td>\n",
       "    </tr>\n",
       "    <tr>\n",
       "      <th>1695</th>\n",
       "      <td>28.6</td>\n",
       "      <td>5.88</td>\n",
       "      <td>2.7</td>\n",
       "      <td>3.3</td>\n",
       "      <td>4.3</td>\n",
       "      <td>15.892</td>\n",
       "      <td>72.0</td>\n",
       "    </tr>\n",
       "    <tr>\n",
       "      <th>1696</th>\n",
       "      <td>28.6</td>\n",
       "      <td>NaN</td>\n",
       "      <td>2.8</td>\n",
       "      <td>NaN</td>\n",
       "      <td>4.5</td>\n",
       "      <td>16.036</td>\n",
       "      <td>73.0</td>\n",
       "    </tr>\n",
       "  </tbody>\n",
       "</table>\n",
       "<p>1697 rows × 7 columns</p>\n",
       "</div>"
      ],
      "text/plain": [
       "      Temp    DO  NH4 Unnamed: 3  NO2     ABW   DOC\n",
       "0        M     M    M          A    M     NaN   NaN\n",
       "1       29  7.36  0.6          0  NaN     NaN   1.0\n",
       "2       29  8.81    0          0    0     NaN   2.0\n",
       "3       29  7.74    0          0  NaN     NaN   3.0\n",
       "4       28   8.4    0          0    0     NaN   4.0\n",
       "...    ...   ...  ...        ...  ...     ...   ...\n",
       "1692  28.5  5.46  3.3          3  4.5  15.460  69.0\n",
       "1693  27.9  6.05  2.9        2.6  4.5  15.604  70.0\n",
       "1694  28.3  5.76  2.7        2.9  4.5  15.748  71.0\n",
       "1695  28.6  5.88  2.7        3.3  4.3  15.892  72.0\n",
       "1696  28.6   NaN  2.8        NaN  4.5  16.036  73.0\n",
       "\n",
       "[1697 rows x 7 columns]"
      ]
     },
     "execution_count": 27,
     "metadata": {},
     "output_type": "execute_result"
    }
   ],
   "source": [
    "df"
   ]
  },
  {
   "cell_type": "code",
   "execution_count": 22,
   "metadata": {},
   "outputs": [
    {
     "ename": "NameError",
     "evalue": "name 'np' is not defined",
     "output_type": "error",
     "traceback": [
      "\u001b[0;31m---------------------------------------------------------------------------\u001b[0m",
      "\u001b[0;31mNameError\u001b[0m                                 Traceback (most recent call last)",
      "\u001b[0;32m/var/folders/pg/3sr7t46900g4xmjmrwp347t40000gn/T/ipykernel_13832/3807783653.py\u001b[0m in \u001b[0;36m<module>\u001b[0;34m\u001b[0m\n\u001b[1;32m      2\u001b[0m \u001b[0;31m# let's define the function form\u001b[0m\u001b[0;34m\u001b[0m\u001b[0;34m\u001b[0m\u001b[0m\n\u001b[1;32m      3\u001b[0m \u001b[0;34m\u001b[0m\u001b[0m\n\u001b[0;32m----> 4\u001b[0;31m \u001b[0mx\u001b[0m \u001b[0;34m=\u001b[0m \u001b[0mnp\u001b[0m\u001b[0;34m.\u001b[0m\u001b[0mlinspace\u001b[0m\u001b[0;34m(\u001b[0m\u001b[0;36m0\u001b[0m\u001b[0;34m,\u001b[0m \u001b[0;36m10\u001b[0m\u001b[0;34m,\u001b[0m \u001b[0;36m101\u001b[0m\u001b[0;34m)\u001b[0m\u001b[0;34m\u001b[0m\u001b[0;34m\u001b[0m\u001b[0m\n\u001b[0m\u001b[1;32m      5\u001b[0m \u001b[0my\u001b[0m \u001b[0;34m=\u001b[0m \u001b[0;36m0.1\u001b[0m\u001b[0;34m*\u001b[0m\u001b[0mnp\u001b[0m\u001b[0;34m.\u001b[0m\u001b[0mexp\u001b[0m\u001b[0;34m(\u001b[0m\u001b[0;36m0.3\u001b[0m\u001b[0;34m*\u001b[0m\u001b[0mx\u001b[0m\u001b[0;34m)\u001b[0m \u001b[0;34m+\u001b[0m \u001b[0;36m0.1\u001b[0m\u001b[0;34m*\u001b[0m\u001b[0mnp\u001b[0m\u001b[0;34m.\u001b[0m\u001b[0mrandom\u001b[0m\u001b[0;34m.\u001b[0m\u001b[0mrandom\u001b[0m\u001b[0;34m(\u001b[0m\u001b[0mlen\u001b[0m\u001b[0;34m(\u001b[0m\u001b[0mx\u001b[0m\u001b[0;34m)\u001b[0m\u001b[0;34m)\u001b[0m\u001b[0;34m\u001b[0m\u001b[0;34m\u001b[0m\u001b[0m\n\u001b[1;32m      6\u001b[0m \u001b[0;34m\u001b[0m\u001b[0m\n",
      "\u001b[0;31mNameError\u001b[0m: name 'np' is not defined"
     ]
    }
   ],
   "source": [
    "from scipy import optimize\n",
    "# let's define the function form\n",
    "\n",
    "x = np.linspace(0, 10, 101)\n",
    "y = 0.1*np.exp(0.3*x) + 0.1*np.random.random(len(x))\n",
    "\n",
    "def func(x, a, b):\n",
    "    y = a*np.exp(b*x)\n",
    "    return y\n",
    "\n",
    "alpha, beta = optimize.curve_fit(func, xdata = x, ydata = y)[0]\n",
    "# beta = optimize.curve_fit(func, xdata = x, ydata = y)[0]\n",
    "print(f'alpha={alpha}, beta={beta}')\n",
    "# print(f'beta={beta}')\n"
   ]
  },
  {
   "cell_type": "code",
   "execution_count": 53,
   "metadata": {},
   "outputs": [
    {
     "data": {
      "image/png": "[encoded data removed]",
      "text/plain": [
       "<Figure size 720x576 with 1 Axes>"
      ]
     },
     "metadata": {
      "needs_background": "light"
     },
     "output_type": "display_data"
    }
   ],
   "source": [
    "# Let's have a look of the data\n",
    "plt.figure(figsize = (10,8))\n",
    "plt.plot(x, y, 'b.')\n",
    "plt.plot(x, alpha*np.exp(beta*x), 'r')\n",
    "plt.xlabel('x')\n",
    "plt.ylabel('y')\n",
    "plt.show()"
   ]
  },
  {
   "cell_type": "code",
   "execution_count": 58,
   "metadata": {},
   "outputs": [],
   "source": [
    "def func1(x, x1, x2, x3):\n",
    "    y = x*x3*np.exp(2*x1 + 2*x2)\n",
    "    return y"
   ]
  },
  {
   "cell_type": "markdown",
   "metadata": {},
   "source": [
    "### Notes\n",
    "\n",
    "Dalam penggunaan fungsi curve_fit diperhatikan bahwa pada `func1` parameter pertama merupakan parameter yang telah diketehui nilainya. Berdasarkan dokucmentasi di scipy disebutkan bahwa paremater x dapat berukuran $k \\times M$"
   ]
  },
  {
   "cell_type": "code",
   "execution_count": 57,
   "metadata": {},
   "outputs": [
    {
     "name": "stdout",
     "output_type": "stream",
     "text": [
      "alpha=-64426.76790491006, beta=64425.804075321954\n"
     ]
    },
    {
     "name": "stderr",
     "output_type": "stream",
     "text": [
      "/Library/Frameworks/Python.framework/Versions/3.10/lib/python3.10/site-packages/scipy/optimize/_minpack_py.py:833: OptimizeWarning: Covariance of the parameters could not be estimated\n",
      "  warnings.warn('Covariance of the parameters could not be estimated',\n"
     ]
    }
   ],
   "source": [
    "a, b = optimize.curve_fit(func1, xdata = x, ydata = y)[0]\n",
    "print(f'alpha={a}, beta={b}')"
   ]
  },
  {
   "cell_type": "code",
   "execution_count": 59,
   "metadata": {},
   "outputs": [
    {
     "data": {
      "text/plain": [
       "array([-0.50702125, -0.12917953,  0.51929216])"
      ]
     },
     "execution_count": 59,
     "metadata": {},
     "output_type": "execute_result"
    }
   ],
   "source": [
    "optimize.curve_fit(func1, xdata = x, ydata = y)[0]"
   ]
  },
  {
   "cell_type": "code",
   "execution_count": 15,
   "metadata": {},
   "outputs": [
    {
     "data": {
      "text/plain": [
       "array([-0.11874399,  0.08228048,  0.27988389, -0.78017336])"
      ]
     },
     "execution_count": 15,
     "metadata": {},
     "output_type": "execute_result"
    }
   ],
   "source": [
    "import seaborn\n",
    "def func1(x, a, b, c, d = 10):\n",
    "    y = d+ np.exp(a*x[0] + b*x[1] + c* x[2])\n",
    "    return y\n",
    "\n",
    "iris = seaborn.load_dataset(\"iris\")\n",
    "\n",
    "xData = iris.drop('species', axis=1).values[:, :3].T\n",
    "yData = iris.drop('species', axis=1).values[:, 3].T\n",
    "\n",
    "curve_fit(func1, xdata = xData, ydata = yData)[0]"
   ]
  },
  {
   "cell_type": "markdown",
   "metadata": {},
   "source": [
    "### Integral"
   ]
  },
  {
   "cell_type": "code",
   "execution_count": 35,
   "metadata": {},
   "outputs": [],
   "source": [
    "from scipy.integrate import quad"
   ]
  },
  {
   "cell_type": "code",
   "execution_count": 36,
   "metadata": {},
   "outputs": [],
   "source": [
    "def integral(x):\n",
    "    return x**2 + 1"
   ]
  },
  {
   "cell_type": "code",
   "execution_count": 43,
   "metadata": {},
   "outputs": [],
   "source": [
    "def func1(x, a, b, c, d = 10):\n",
    "    y = d+ np.exp(a*quad(integral, 0, 1)[0] * x[0]+ b*x[1] + c* x[2])\n",
    "    return y "
   ]
  },
  {
   "cell_type": "code",
   "execution_count": 44,
   "metadata": {},
   "outputs": [
    {
     "data": {
      "text/plain": [
       "array([-0.0890559 ,  0.08228269,  0.27988046, -0.78019041])"
      ]
     },
     "execution_count": 44,
     "metadata": {},
     "output_type": "execute_result"
    }
   ],
   "source": [
    "optimize.curve_fit(func1, xdata = xData, ydata = yData,)[0]"
   ]
  },
  {
   "cell_type": "code",
   "execution_count": 42,
   "metadata": {},
   "outputs": [
    {
     "data": {
      "text/plain": [
       "46.66666666666667"
      ]
     },
     "execution_count": 42,
     "metadata": {},
     "output_type": "execute_result"
    }
   ],
   "source": [
    "quad(integral, 0, 5)[0]"
   ]
  },
  {
   "cell_type": "code",
   "execution_count": 1,
   "metadata": {},
   "outputs": [],
   "source": [
    "from lib.uem.metrices import Compute\n",
    "from lib.uem.biomass import Biomassa\n",
    "from lib.helpers import price_function, source_data, score_csc_compute\n",
    "from lib.uem.feeding_rate import feeding_rate\n",
    "\n",
    "import numpy as np\n",
    "\n",
    "\n",
    "f_uia, f_o2, f_temp, temperature = source_data(\n",
    "    path = \"data/growth_full.csv\",\n",
    "    temp_suitable_min = 25,\n",
    "    temp_suitable_max = 33,\n",
    "    temp_optimal_min = 28,\n",
    "    temp_optimal_max = 32,\n",
    "    do_suitable_min = 4,\n",
    "    do_suitable_max = 10,\n",
    "    do_optimal_min = 6,\n",
    "    do_optimal_max = 9,\n",
    "    ua_suitable_min = 0.00,\n",
    "    ua_suitable_max = 0.16,\n",
    "    ua_optimal_min = 0.00,\n",
    "    ua_optimal_max = 0.06,\n",
    ")\n",
    "\n",
    "\n",
    "csc_suitable_min = 0.00\n",
    "csc_suitable_max = 5\n",
    "csc_optimal_min = 0.00\n",
    "csc_optimal_max = 3\n"
   ]
  },
  {
   "cell_type": "code",
   "execution_count": 5,
   "metadata": {},
   "outputs": [],
   "source": [
    "T = 120\n",
    "\n",
    "def funcWt(data, alpha):\n",
    "    f_uia, f_o2, f_temp, temperature = source_data(\n",
    "        path = \"data/growth_full.csv\", # path\n",
    "        temp_suitable_min = 25,\n",
    "        temp_suitable_max = 33,\n",
    "        temp_optimal_min = 28,\n",
    "        temp_optimal_max = 32,\n",
    "        do_suitable_min = 4,\n",
    "        do_suitable_max = 10,\n",
    "        do_optimal_min = 6,\n",
    "        do_optimal_max = 9,\n",
    "        ua_suitable_min = 0.00,\n",
    "        ua_suitable_max = 0.16,\n",
    "        ua_optimal_min = 0.00,\n",
    "        ua_optimal_max = 0.06,\n",
    "    )\n",
    "\n",
    "\n",
    "    csc_suitable_min = 0.00\n",
    "    csc_suitable_max = 5\n",
    "    csc_optimal_min = 0.00\n",
    "    csc_optimal_max = 3\n",
    "\n",
    "    sr = 0.92\n",
    "\n",
    "    m = -np.log(sr)/data\n",
    "\n",
    "    weight = []\n",
    "    biomassa = []\n",
    "\n",
    "    cum_integral = 0\n",
    "    for t in data:\n",
    "        for i in range(int(t)+1):\n",
    "            if i == 0:\n",
    "                score_csc = score_csc_compute(0/1000, 0.01, csc_suitable_min, csc_suitable_max, csc_optimal_max)\n",
    "                feedRate = feeding_rate(0, float(temperature[temperature[\"DOC\"]==i-1][\"Temp\"]), 0)\n",
    "                obj = Biomassa(0, i, 40, 0.05, alpha, 100, sr, m, [0.1, 0.1, 0.1], [60, 70, 80], f_uia, f_o2, f_temp, score_csc, feedRate, cum_integral, final_doc=120)\n",
    "                wt = obj.wt()\n",
    "                biomass = obj.biomassa()\n",
    "                \n",
    "            else:\n",
    "                score_csc = score_csc_compute(biomassa[-1]/1000, 1000, csc_suitable_min, csc_suitable_max, csc_optimal_max)\n",
    "                feedRate = feeding_rate(weight[-1], float(temperature[temperature[\"DOC\"]==i-1][\"Suhu_s\"]), biomassa[-1]/1000)\n",
    "                obj = Biomassa(i-1, i, 40, 0.05, alpha, 100, sr, m, [0.1, 0.1, 0.1], [60, 70, 80], f_uia, f_o2, f_temp, score_csc, feedRate, cum_integral, 120)\n",
    "                wt = obj.wt()\n",
    "                biomass = obj.biomassa()\n",
    "\n",
    "            weight.append(wt)\n",
    "            biomassa.append(biomass)\n",
    "    \n",
    "    return weight[-1] "
   ]
  },
  {
   "cell_type": "code",
   "execution_count": 6,
   "metadata": {},
   "outputs": [],
   "source": [
    "from scipy.optimize import curve_fit"
   ]
  },
  {
   "cell_type": "code",
   "execution_count": 16,
   "metadata": {},
   "outputs": [],
   "source": [
    "df = pd.read_csv(\"data/growth_full.csv\", sep=\";\")\n",
    "xData = df[\"DOC\"].tolist()\n",
    "yData = df[\"ABW\"].tolist()\n",
    "\n",
    "# curve_fit(funcWt, xData, yData)"
   ]
  },
  {
   "cell_type": "code",
   "execution_count": 35,
   "metadata": {},
   "outputs": [],
   "source": [
    "from scipy.integrate import quad\n",
    "\n",
    "def func2(data, alpha, wn=45, w0=0.05):\n",
    "    return (wn**(1/3) - (wn**(1/3) - w0**(1/3))*np.exp(-alpha*data))**3"
   ]
  },
  {
   "cell_type": "code",
   "execution_count": 41,
   "metadata": {},
   "outputs": [
    {
     "name": "stderr",
     "output_type": "stream",
     "text": [
      "/var/folders/pg/3sr7t46900g4xmjmrwp347t40000gn/T/ipykernel_15093/3163053072.py:4: RuntimeWarning: invalid value encountered in double_scalars\n",
      "  return (wn**(1/3) - (wn**(1/3) - w0**(1/3))*np.exp(-alpha*data))**3\n"
     ]
    },
    {
     "data": {
      "text/plain": [
       "array([4.60601148e-01, 3.64634657e+00, 3.01855117e-19])"
      ]
     },
     "execution_count": 41,
     "metadata": {},
     "output_type": "execute_result"
    }
   ],
   "source": [
    "curve_fit(func2, xData, yData, maxfev=10000)[0]"
   ]
  },
  {
   "cell_type": "code",
   "execution_count": 46,
   "metadata": {},
   "outputs": [],
   "source": [
    "def func3(x, y):\n",
    "    return x*y + 20"
   ]
  },
  {
   "cell_type": "code",
   "execution_count": 47,
   "metadata": {},
   "outputs": [
    {
     "data": {
      "text/plain": [
       "array([-0.10474206])"
      ]
     },
     "execution_count": 47,
     "metadata": {},
     "output_type": "execute_result"
    }
   ],
   "source": [
    "curve_fit(func3, xData, yData, maxfev=10000)[0]"
   ]
  },
  {
   "cell_type": "code",
   "execution_count": 55,
   "metadata": {},
   "outputs": [
    {
     "data": {
      "text/plain": [
       "[<matplotlib.lines.Line2D at 0x128bda2c0>]"
      ]
     },
     "execution_count": 55,
     "metadata": {},
     "output_type": "execute_result"
    },
    {
     "data": {
      "image/png": "[encoded data removed]",
      "text/plain": [
       "<Figure size 432x288 with 1 Axes>"
      ]
     },
     "metadata": {
      "needs_background": "light"
     },
     "output_type": "display_data"
    }
   ],
   "source": [
    "import matplotlib.pyplot as plt\n",
    "plt.scatter(xData, yData, color='b')\n",
    "plt.plot(xData, -0.10474206*np.array(xData)+20, color='r')"
   ]
  },
  {
   "cell_type": "code",
   "execution_count": null,
   "metadata": {},
   "outputs": [],
   "source": [
    "T = 120\n",
    "\n",
    "def funcWt(data, alpha):\n",
    "    f_uia, f_o2, f_temp, temperature = source_data(\n",
    "        path = \"data/growth_full.csv\", # path\n",
    "        temp_suitable_min = 25,\n",
    "        temp_suitable_max = 33,\n",
    "        temp_optimal_min = 28,\n",
    "        temp_optimal_max = 32,\n",
    "        do_suitable_min = 4,\n",
    "        do_suitable_max = 10,\n",
    "        do_optimal_min = 6,\n",
    "        do_optimal_max = 9,\n",
    "        ua_suitable_min = 0.00,\n",
    "        ua_suitable_max = 0.16,\n",
    "        ua_optimal_min = 0.00,\n",
    "        ua_optimal_max = 0.06,\n",
    "    )\n",
    "\n",
    "\n",
    "    csc_suitable_min = 0.00\n",
    "    csc_suitable_max = 5\n",
    "    csc_optimal_min = 0.00\n",
    "    csc_optimal_max = 3\n",
    "\n",
    "    sr = 0.92\n",
    "\n",
    "    m = -np.log(sr)/data\n",
    "\n",
    "    weight = []\n",
    "    biomassa = []\n",
    "\n",
    "    cum_integral = 0\n",
    "    for t in data:\n",
    "        for i in range(int(t)+1):\n",
    "            if i == 0:\n",
    "                score_csc = score_csc_compute(0/1000, 0.01, csc_suitable_min, csc_suitable_max, csc_optimal_max)\n",
    "                feedRate = feeding_rate(0, float(temperature[temperature[\"DOC\"]==i-1][\"Temp\"]), 0)\n",
    "                obj = Biomassa(0, i, 40, 0.05, alpha, 100, sr, m, [0.1, 0.1, 0.1], [60, 70, 80], f_uia, f_o2, f_temp, score_csc, feedRate, cum_integral, final_doc=120)\n",
    "                wt = obj.wt()\n",
    "                biomass = obj.biomassa()\n",
    "                \n",
    "            else:\n",
    "                score_csc = score_csc_compute(biomassa[-1]/1000, 1000, csc_suitable_min, csc_suitable_max, csc_optimal_max)\n",
    "                feedRate = feeding_rate(weight[-1], float(temperature[temperature[\"DOC\"]==i-1][\"Suhu_s\"]), biomassa[-1]/1000)\n",
    "                obj = Biomassa(i-1, i, 40, 0.05, alpha, 100, sr, m, [0.1, 0.1, 0.1], [60, 70, 80], f_uia, f_o2, f_temp, score_csc, feedRate, cum_integral, 120)\n",
    "                wt = obj.wt()\n",
    "                biomass = obj.biomassa()\n",
    "\n",
    "            weight.append(wt)\n",
    "            biomassa.append(biomass)\n",
    "    \n",
    "    return weight[-1] "
   ]
  },
  {
   "cell_type": "code",
   "execution_count": 58,
   "metadata": {},
   "outputs": [
    {
     "data": {
      "text/plain": [
       "array(0.)"
      ]
     },
     "execution_count": 58,
     "metadata": {},
     "output_type": "execute_result"
    }
   ],
   "source": [
    "f_uia(1)"
   ]
  },
  {
   "cell_type": "code",
   "execution_count": 61,
   "metadata": {},
   "outputs": [],
   "source": [
    "score_csc = score_csc_compute(0/1000, 0.01, csc_suitable_min, csc_suitable_max, csc_optimal_max)\n",
    "feedRate = feeding_rate(0, float(temperature[temperature[\"DOC\"]==1][\"Temp\"]), 0)"
   ]
  },
  {
   "cell_type": "code",
   "execution_count": 62,
   "metadata": {},
   "outputs": [],
   "source": [
    "from lib.uem.integrate_fr import Fungsi\n",
    "\n"
   ]
  },
  {
   "cell_type": "code",
   "execution_count": 69,
   "metadata": {},
   "outputs": [],
   "source": [
    "from scipy.integrate import quad\n",
    "\n",
    "\n",
    "class Fungsi:\n",
    "    def __init__(self, a, b, f_uia, f_o2, f_temp, score_csc, feeding_rate):\n",
    "\n",
    "        self.a = a\n",
    "        self.b = b\n",
    "\n",
    "        self.f_uia = f_uia\n",
    "        self.f_o2 = f_o2\n",
    "        self.f_temp = f_temp\n",
    "\n",
    "        self.score_csc = score_csc\n",
    "        self.feeding_rate = feeding_rate\n",
    "\n",
    "    def _integrate_function(self, t):\n",
    "        temp = self.f_temp(t)\n",
    "        o2 = self.f_o2(t)\n",
    "        uia = self.f_uia(t)\n",
    "\n",
    "        if (temp == 0) or (o2 == 0) or (uia == 0):\n",
    "            return 0\n",
    "        else:\n",
    "            return temp + o2 + uia + self.score_csc + self.feeding_rate\n",
    "\n",
    "\n",
    "    def get_integral2(self):\n",
    "        if type(self.b) == list:\n",
    "            print(\"test\")\n",
    "            ret = [quad(self._integrate_function, self.a, i, limit=1500) for i in self.b]\n",
    "            return ret\n",
    "        else:\n",
    "            return quad(self._integrate_function, self.a, self.b, limit=1500)    \n",
    "\n",
    "    def get_integral(self):\n",
    "        return quad(self._integrate_function, self.a, self.b, limit=1500)\n"
   ]
  },
  {
   "cell_type": "code",
   "execution_count": 65,
   "metadata": {},
   "outputs": [],
   "source": [
    "def func4(t, alpha):\n",
    "    obj = Fungsi(0, t, f_uia, f_o2, f_temp, score_csc, feedRate)\n",
    "    return alpha * obj.get_integral2()"
   ]
  },
  {
   "cell_type": "code",
   "execution_count": 74,
   "metadata": {},
   "outputs": [
    {
     "ename": "TypeError",
     "evalue": "quad_vec() missing 2 required positional arguments: 'a' and 'b'",
     "output_type": "error",
     "traceback": [
      "\u001b[0;31m---------------------------------------------------------------------------\u001b[0m",
      "\u001b[0;31mTypeError\u001b[0m                                 Traceback (most recent call last)",
      "\u001b[0;32m/var/folders/pg/3sr7t46900g4xmjmrwp347t40000gn/T/ipykernel_15093/3660981389.py\u001b[0m in \u001b[0;36m<module>\u001b[0;34m\u001b[0m\n\u001b[1;32m      1\u001b[0m \u001b[0;32mfrom\u001b[0m \u001b[0mscipy\u001b[0m\u001b[0;34m.\u001b[0m\u001b[0mintegrate\u001b[0m \u001b[0;32mimport\u001b[0m \u001b[0mquad_vec\u001b[0m\u001b[0;34m\u001b[0m\u001b[0;34m\u001b[0m\u001b[0m\n\u001b[0;32m----> 2\u001b[0;31m \u001b[0mcurve_fit\u001b[0m\u001b[0;34m(\u001b[0m\u001b[0;32mlambda\u001b[0m \u001b[0mx\u001b[0m\u001b[0;34m,\u001b[0m \u001b[0mc\u001b[0m\u001b[0;34m:\u001b[0m \u001b[0mc\u001b[0m\u001b[0;34m*\u001b[0m\u001b[0mquad_vec\u001b[0m\u001b[0;34m(\u001b[0m\u001b[0mx\u001b[0m\u001b[0;34m)\u001b[0m\u001b[0;34m,\u001b[0m \u001b[0;34m[\u001b[0m\u001b[0;36m1\u001b[0m\u001b[0;34m,\u001b[0m\u001b[0;36m2\u001b[0m\u001b[0;34m,\u001b[0m\u001b[0;36m3\u001b[0m\u001b[0;34m]\u001b[0m\u001b[0;34m,\u001b[0m \u001b[0;34m[\u001b[0m\u001b[0;36m1\u001b[0m\u001b[0;34m,\u001b[0m\u001b[0;36m5\u001b[0m\u001b[0;34m,\u001b[0m\u001b[0;36m6\u001b[0m\u001b[0;34m]\u001b[0m\u001b[0;34m)\u001b[0m\u001b[0;34m\u001b[0m\u001b[0;34m\u001b[0m\u001b[0m\n\u001b[0m",
      "\u001b[0;32m/Library/Frameworks/Python.framework/Versions/3.10/lib/python3.10/site-packages/scipy/optimize/_minpack_py.py\u001b[0m in \u001b[0;36mcurve_fit\u001b[0;34m(f, xdata, ydata, p0, sigma, absolute_sigma, check_finite, bounds, method, jac, **kwargs)\u001b[0m\n\u001b[1;32m    787\u001b[0m         \u001b[0;31m# Remove full_output from kwargs, otherwise we're passing it in twice.\u001b[0m\u001b[0;34m\u001b[0m\u001b[0;34m\u001b[0m\u001b[0m\n\u001b[1;32m    788\u001b[0m         \u001b[0mreturn_full\u001b[0m \u001b[0;34m=\u001b[0m \u001b[0mkwargs\u001b[0m\u001b[0;34m.\u001b[0m\u001b[0mpop\u001b[0m\u001b[0;34m(\u001b[0m\u001b[0;34m'full_output'\u001b[0m\u001b[0;34m,\u001b[0m \u001b[0;32mFalse\u001b[0m\u001b[0;34m)\u001b[0m\u001b[0;34m\u001b[0m\u001b[0;34m\u001b[0m\u001b[0m\n\u001b[0;32m--> 789\u001b[0;31m         \u001b[0mres\u001b[0m \u001b[0;34m=\u001b[0m \u001b[0mleastsq\u001b[0m\u001b[0;34m(\u001b[0m\u001b[0mfunc\u001b[0m\u001b[0;34m,\u001b[0m \u001b[0mp0\u001b[0m\u001b[0;34m,\u001b[0m \u001b[0mDfun\u001b[0m\u001b[0;34m=\u001b[0m\u001b[0mjac\u001b[0m\u001b[0;34m,\u001b[0m \u001b[0mfull_output\u001b[0m\u001b[0;34m=\u001b[0m\u001b[0;36m1\u001b[0m\u001b[0;34m,\u001b[0m \u001b[0;34m**\u001b[0m\u001b[0mkwargs\u001b[0m\u001b[0;34m)\u001b[0m\u001b[0;34m\u001b[0m\u001b[0;34m\u001b[0m\u001b[0m\n\u001b[0m\u001b[1;32m    790\u001b[0m         \u001b[0mpopt\u001b[0m\u001b[0;34m,\u001b[0m \u001b[0mpcov\u001b[0m\u001b[0;34m,\u001b[0m \u001b[0minfodict\u001b[0m\u001b[0;34m,\u001b[0m \u001b[0merrmsg\u001b[0m\u001b[0;34m,\u001b[0m \u001b[0mier\u001b[0m \u001b[0;34m=\u001b[0m \u001b[0mres\u001b[0m\u001b[0;34m\u001b[0m\u001b[0;34m\u001b[0m\u001b[0m\n\u001b[1;32m    791\u001b[0m         \u001b[0mysize\u001b[0m \u001b[0;34m=\u001b[0m \u001b[0mlen\u001b[0m\u001b[0;34m(\u001b[0m\u001b[0minfodict\u001b[0m\u001b[0;34m[\u001b[0m\u001b[0;34m'fvec'\u001b[0m\u001b[0;34m]\u001b[0m\u001b[0;34m)\u001b[0m\u001b[0;34m\u001b[0m\u001b[0;34m\u001b[0m\u001b[0m\n",
      "\u001b[0;32m/Library/Frameworks/Python.framework/Versions/3.10/lib/python3.10/site-packages/scipy/optimize/_minpack_py.py\u001b[0m in \u001b[0;36mleastsq\u001b[0;34m(func, x0, args, Dfun, full_output, col_deriv, ftol, xtol, gtol, maxfev, epsfcn, factor, diag)\u001b[0m\n\u001b[1;32m    408\u001b[0m     \u001b[0;32mif\u001b[0m \u001b[0;32mnot\u001b[0m \u001b[0misinstance\u001b[0m\u001b[0;34m(\u001b[0m\u001b[0margs\u001b[0m\u001b[0;34m,\u001b[0m \u001b[0mtuple\u001b[0m\u001b[0;34m)\u001b[0m\u001b[0;34m:\u001b[0m\u001b[0;34m\u001b[0m\u001b[0;34m\u001b[0m\u001b[0m\n\u001b[1;32m    409\u001b[0m         \u001b[0margs\u001b[0m \u001b[0;34m=\u001b[0m \u001b[0;34m(\u001b[0m\u001b[0margs\u001b[0m\u001b[0;34m,\u001b[0m\u001b[0;34m)\u001b[0m\u001b[0;34m\u001b[0m\u001b[0;34m\u001b[0m\u001b[0m\n\u001b[0;32m--> 410\u001b[0;31m     \u001b[0mshape\u001b[0m\u001b[0;34m,\u001b[0m \u001b[0mdtype\u001b[0m \u001b[0;34m=\u001b[0m \u001b[0m_check_func\u001b[0m\u001b[0;34m(\u001b[0m\u001b[0;34m'leastsq'\u001b[0m\u001b[0;34m,\u001b[0m \u001b[0;34m'func'\u001b[0m\u001b[0;34m,\u001b[0m \u001b[0mfunc\u001b[0m\u001b[0;34m,\u001b[0m \u001b[0mx0\u001b[0m\u001b[0;34m,\u001b[0m \u001b[0margs\u001b[0m\u001b[0;34m,\u001b[0m \u001b[0mn\u001b[0m\u001b[0;34m)\u001b[0m\u001b[0;34m\u001b[0m\u001b[0;34m\u001b[0m\u001b[0m\n\u001b[0m\u001b[1;32m    411\u001b[0m     \u001b[0mm\u001b[0m \u001b[0;34m=\u001b[0m \u001b[0mshape\u001b[0m\u001b[0;34m[\u001b[0m\u001b[0;36m0\u001b[0m\u001b[0;34m]\u001b[0m\u001b[0;34m\u001b[0m\u001b[0;34m\u001b[0m\u001b[0m\n\u001b[1;32m    412\u001b[0m \u001b[0;34m\u001b[0m\u001b[0m\n",
      "\u001b[0;32m/Library/Frameworks/Python.framework/Versions/3.10/lib/python3.10/site-packages/scipy/optimize/_minpack_py.py\u001b[0m in \u001b[0;36m_check_func\u001b[0;34m(checker, argname, thefunc, x0, args, numinputs, output_shape)\u001b[0m\n\u001b[1;32m     22\u001b[0m def _check_func(checker, argname, thefunc, x0, args, numinputs,\n\u001b[1;32m     23\u001b[0m                 output_shape=None):\n\u001b[0;32m---> 24\u001b[0;31m     \u001b[0mres\u001b[0m \u001b[0;34m=\u001b[0m \u001b[0matleast_1d\u001b[0m\u001b[0;34m(\u001b[0m\u001b[0mthefunc\u001b[0m\u001b[0;34m(\u001b[0m\u001b[0;34m*\u001b[0m\u001b[0;34m(\u001b[0m\u001b[0;34m(\u001b[0m\u001b[0mx0\u001b[0m\u001b[0;34m[\u001b[0m\u001b[0;34m:\u001b[0m\u001b[0mnuminputs\u001b[0m\u001b[0;34m]\u001b[0m\u001b[0;34m,\u001b[0m\u001b[0;34m)\u001b[0m \u001b[0;34m+\u001b[0m \u001b[0margs\u001b[0m\u001b[0;34m)\u001b[0m\u001b[0;34m)\u001b[0m\u001b[0;34m)\u001b[0m\u001b[0;34m\u001b[0m\u001b[0;34m\u001b[0m\u001b[0m\n\u001b[0m\u001b[1;32m     25\u001b[0m     \u001b[0;32mif\u001b[0m \u001b[0;34m(\u001b[0m\u001b[0moutput_shape\u001b[0m \u001b[0;32mis\u001b[0m \u001b[0;32mnot\u001b[0m \u001b[0;32mNone\u001b[0m\u001b[0;34m)\u001b[0m \u001b[0;32mand\u001b[0m \u001b[0;34m(\u001b[0m\u001b[0mshape\u001b[0m\u001b[0;34m(\u001b[0m\u001b[0mres\u001b[0m\u001b[0;34m)\u001b[0m \u001b[0;34m!=\u001b[0m \u001b[0moutput_shape\u001b[0m\u001b[0;34m)\u001b[0m\u001b[0;34m:\u001b[0m\u001b[0;34m\u001b[0m\u001b[0;34m\u001b[0m\u001b[0m\n\u001b[1;32m     26\u001b[0m         \u001b[0;32mif\u001b[0m \u001b[0;34m(\u001b[0m\u001b[0moutput_shape\u001b[0m\u001b[0;34m[\u001b[0m\u001b[0;36m0\u001b[0m\u001b[0;34m]\u001b[0m \u001b[0;34m!=\u001b[0m \u001b[0;36m1\u001b[0m\u001b[0;34m)\u001b[0m\u001b[0;34m:\u001b[0m\u001b[0;34m\u001b[0m\u001b[0;34m\u001b[0m\u001b[0m\n",
      "\u001b[0;32m/Library/Frameworks/Python.framework/Versions/3.10/lib/python3.10/site-packages/scipy/optimize/_minpack_py.py\u001b[0m in \u001b[0;36mfunc_wrapped\u001b[0;34m(params)\u001b[0m\n\u001b[1;32m    483\u001b[0m     \u001b[0;32mif\u001b[0m \u001b[0mtransform\u001b[0m \u001b[0;32mis\u001b[0m \u001b[0;32mNone\u001b[0m\u001b[0;34m:\u001b[0m\u001b[0;34m\u001b[0m\u001b[0;34m\u001b[0m\u001b[0m\n\u001b[1;32m    484\u001b[0m         \u001b[0;32mdef\u001b[0m \u001b[0mfunc_wrapped\u001b[0m\u001b[0;34m(\u001b[0m\u001b[0mparams\u001b[0m\u001b[0;34m)\u001b[0m\u001b[0;34m:\u001b[0m\u001b[0;34m\u001b[0m\u001b[0;34m\u001b[0m\u001b[0m\n\u001b[0;32m--> 485\u001b[0;31m             \u001b[0;32mreturn\u001b[0m \u001b[0mfunc\u001b[0m\u001b[0;34m(\u001b[0m\u001b[0mxdata\u001b[0m\u001b[0;34m,\u001b[0m \u001b[0;34m*\u001b[0m\u001b[0mparams\u001b[0m\u001b[0;34m)\u001b[0m \u001b[0;34m-\u001b[0m \u001b[0mydata\u001b[0m\u001b[0;34m\u001b[0m\u001b[0;34m\u001b[0m\u001b[0m\n\u001b[0m\u001b[1;32m    486\u001b[0m     \u001b[0;32melif\u001b[0m \u001b[0mtransform\u001b[0m\u001b[0;34m.\u001b[0m\u001b[0mndim\u001b[0m \u001b[0;34m==\u001b[0m \u001b[0;36m1\u001b[0m\u001b[0;34m:\u001b[0m\u001b[0;34m\u001b[0m\u001b[0;34m\u001b[0m\u001b[0m\n\u001b[1;32m    487\u001b[0m         \u001b[0;32mdef\u001b[0m \u001b[0mfunc_wrapped\u001b[0m\u001b[0;34m(\u001b[0m\u001b[0mparams\u001b[0m\u001b[0;34m)\u001b[0m\u001b[0;34m:\u001b[0m\u001b[0;34m\u001b[0m\u001b[0;34m\u001b[0m\u001b[0m\n",
      "\u001b[0;32m/var/folders/pg/3sr7t46900g4xmjmrwp347t40000gn/T/ipykernel_15093/3660981389.py\u001b[0m in \u001b[0;36m<lambda>\u001b[0;34m(x, c)\u001b[0m\n\u001b[1;32m      1\u001b[0m \u001b[0;32mfrom\u001b[0m \u001b[0mscipy\u001b[0m\u001b[0;34m.\u001b[0m\u001b[0mintegrate\u001b[0m \u001b[0;32mimport\u001b[0m \u001b[0mquad_vec\u001b[0m\u001b[0;34m\u001b[0m\u001b[0;34m\u001b[0m\u001b[0m\n\u001b[0;32m----> 2\u001b[0;31m \u001b[0mcurve_fit\u001b[0m\u001b[0;34m(\u001b[0m\u001b[0;32mlambda\u001b[0m \u001b[0mx\u001b[0m\u001b[0;34m,\u001b[0m \u001b[0mc\u001b[0m\u001b[0;34m:\u001b[0m \u001b[0mc\u001b[0m\u001b[0;34m*\u001b[0m\u001b[0mquad_vec\u001b[0m\u001b[0;34m(\u001b[0m\u001b[0mx\u001b[0m\u001b[0;34m)\u001b[0m\u001b[0;34m,\u001b[0m \u001b[0;34m[\u001b[0m\u001b[0;36m1\u001b[0m\u001b[0;34m,\u001b[0m\u001b[0;36m2\u001b[0m\u001b[0;34m,\u001b[0m\u001b[0;36m3\u001b[0m\u001b[0;34m]\u001b[0m\u001b[0;34m,\u001b[0m \u001b[0;34m[\u001b[0m\u001b[0;36m1\u001b[0m\u001b[0;34m,\u001b[0m\u001b[0;36m5\u001b[0m\u001b[0;34m,\u001b[0m\u001b[0;36m6\u001b[0m\u001b[0;34m]\u001b[0m\u001b[0;34m)\u001b[0m\u001b[0;34m\u001b[0m\u001b[0;34m\u001b[0m\u001b[0m\n\u001b[0m",
      "\u001b[0;31mTypeError\u001b[0m: quad_vec() missing 2 required positional arguments: 'a' and 'b'"
     ]
    }
   ],
   "source": [
    "from scipy.integrate import quad_vec\n",
    "curve_fit(lambda x, c: c*quad_vec(x), [1,2,3], [1,5,6])"
   ]
  },
  {
   "cell_type": "code",
   "execution_count": null,
   "metadata": {},
   "outputs": [],
   "source": []
  }
 ],
 "metadata": {
  "kernelspec": {
   "display_name": "Python 3.10.1 64-bit",
   "language": "python",
   "name": "python3"
  },
  "language_info": {
   "codemirror_mode": {
    "name": "ipython",
    "version": 3
   },
   "file_extension": ".py",
   "mimetype": "text/x-python",
   "name": "python",
   "nbconvert_exporter": "python",
   "pygments_lexer": "ipython3",
   "version": "3.10.1"
  },
  "orig_nbformat": 4,
  "vscode": {
   "interpreter": {
    "hash": "7e1998ff7f8aa20ada591c520b972326324e5ea05489af9e422744c7c09f6dad"
   }
  }
 },
 "nbformat": 4,
 "nbformat_minor": 2
}
