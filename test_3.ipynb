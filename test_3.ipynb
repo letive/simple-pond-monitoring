{
 "cells": [
  {
   "cell_type": "code",
   "execution_count": 1,
   "metadata": {},
   "outputs": [],
   "source": [
    "from lib.v2.parameter_estimation_without_csc_fa import ParemeterEstimation"
   ]
  },
  {
   "cell_type": "code",
   "execution_count": 2,
   "metadata": {},
   "outputs": [],
   "source": [
    "# temp_condition = st.sidebar.expander(\"Temperature condition\")\n",
    "temp_suitable_min = 25\n",
    "temp_suitable_max = 33\n",
    "temp_optimal_min = 28\n",
    "temp_optimal_max = 32.0\n",
    "\n",
    "# uia_condition = st.sidebar.expander(\"Unionized Amonia condition\")\n",
    "uia_suitable_min = 0.0\n",
    "uia_suitable_max = 25.0\n",
    "uia_optimal_min = 0.001\n",
    "uia_optimal_max = 15.0\n",
    "\n",
    "# do_conditon = st.sidebar.expander(\"Dissolved Oxygen Condition\")\n",
    "do_suitable_min = 4.0\n",
    "do_suitable_max = 10.0\n",
    "do_optimal_min = 6.0\n",
    "do_optimal_max = 9.0\n",
    "\n",
    "# csc_conditon = st.sidebar.expander(\"Critical Steady Crop Condition\")\n",
    "csc_suitable_min = 0.0\n",
    "csc_suitable_max = 3.0\n",
    "csc_optimal_min = 0.0\n",
    "csc_optimal_max = 0.5\n",
    "\n",
    "area = 1000\n",
    "\n",
    "w0 = 0.05\n",
    "wn = 45\n",
    "\n",
    "partial1 = 0.1\n",
    "partial2 = 0.1\n",
    "partial3 = 0.1\n",
    "\n",
    "docpartial1 = 60\n",
    "docpartial2 = 70\n",
    "docpartial3 = 80\n",
    "docfinal = 120\n",
    "\n",
    "t0 = 0\n",
    "sr = 0.92\n",
    "n0 = 100\n",
    "T = 120"
   ]
  },
  {
   "cell_type": "code",
   "execution_count": 3,
   "metadata": {},
   "outputs": [
    {
     "name": "stderr",
     "output_type": "stream",
     "text": [
      "/Users/macbook/Documents/soekotjo/backtest-app/lib/v2/shrimp_growth.py:147: RuntimeWarning: overflow encountered in exp\n",
      "  wt = (wn**(1/3) - (wn**(1/3) - w0**(1/3))* np.exp(-alpha*(fr + (t-t0))))**3\n",
      "/Users/macbook/Documents/soekotjo/backtest-app/lib/v2/shrimp_growth.py:147: RuntimeWarning: overflow encountered in double_scalars\n",
      "  wt = (wn**(1/3) - (wn**(1/3) - w0**(1/3))* np.exp(-alpha*(fr + (t-t0))))**3\n"
     ]
    }
   ],
   "source": [
    "# Estimation\n",
    "estimator = ParemeterEstimation(path = \"data/growth1_xxx.csv\", sep=\";\", col_temp=\"Temp\", col_uia=\"NH4\", col_do=\"DO\", col_doc=\"DOC\")\n",
    "\n",
    "# intial setup\n",
    "estimator.set_data_for_interpolation(path = \"data/biochem.csv\")\n",
    "estimator.set_conditional_parameter(cond_temp=(\n",
    "                                        temp_suitable_min, temp_optimal_min, temp_optimal_max, temp_suitable_max\n",
    "                                    ), cond_uia=(\n",
    "                                        uia_suitable_min, uia_optimal_min, uia_optimal_max, uia_suitable_max\n",
    "                                    ), cond_do=(\n",
    "                                        do_suitable_min, do_optimal_min, do_optimal_max, do_suitable_max\n",
    "                                    ), cond_csc=(\n",
    "                                        csc_suitable_min, csc_optimal_min, csc_optimal_max, csc_suitable_max\n",
    "                                    ))\n",
    "estimator.set_food_availablelity_data()\n",
    "estimator.set_growth_paremater(w0=w0, wn=wn, n0=n0, sr=sr)\n",
    "estimator.set_partial_harvest_parameter(doc=[docpartial1, docpartial2, docpartial3], ph=[partial1, partial2, partial3], final_doc=docfinal)\n",
    "estimator.set_pond_data(area=area)\n",
    "\n",
    "alpha = estimator.fit_v2()\n"
   ]
  },
  {
   "cell_type": "code",
   "execution_count": 4,
   "metadata": {},
   "outputs": [
    {
     "data": {
      "text/plain": [
       "array([ 0.01495348, -4.5355652 , -3.24236343, -3.47108974])"
      ]
     },
     "execution_count": 4,
     "metadata": {},
     "output_type": "execute_result"
    }
   ],
   "source": [
    "alpha"
   ]
  },
  {
   "cell_type": "code",
   "execution_count": 19,
   "metadata": {},
   "outputs": [
    {
     "data": {
      "text/plain": [
       "1.243479691173798"
      ]
     },
     "execution_count": 19,
     "metadata": {},
     "output_type": "execute_result"
    }
   ],
   "source": [
    "# weight\n",
    "from lib.v2.shrimp_growth import ShrimpGrowth\n",
    "\n",
    "ShrimpGrowth.weight(0, 120, w0, wn, 1, 0.0020888602741601365, constant_fr=1)"
   ]
  },
  {
   "cell_type": "code",
   "execution_count": 5,
   "metadata": {},
   "outputs": [],
   "source": [
    "df = estimator.df.copy()\n",
    "df1 = df.loc[0:107]\n",
    "\n",
    "## model\n",
    "model = ParemeterEstimation(df=df1)\n",
    "\n",
    "# intial setup\n",
    "model.set_data_for_interpolation(path = \"data/biochem.csv\")\n",
    "model.set_conditional_parameter(cond_temp=(\n",
    "                                        temp_suitable_min, temp_optimal_min, temp_optimal_max, temp_suitable_max\n",
    "                                    ), cond_uia=(\n",
    "                                        uia_suitable_min, uia_optimal_min, uia_optimal_max, uia_suitable_max\n",
    "                                    ), cond_do=(\n",
    "                                        do_suitable_min, do_optimal_min, do_optimal_max, do_suitable_max\n",
    "                                    ), cond_csc=(\n",
    "                                        csc_suitable_min, csc_optimal_min, csc_optimal_max, csc_suitable_max\n",
    "                                    ))\n",
    "model.set_food_availablelity_data()\n",
    "model.set_growth_paremater(w0=w0, wn=wn, n0=n0, sr=sr)\n",
    "model.set_partial_harvest_parameter(doc=[docpartial1, docpartial2, docpartial3], ph=[partial1, partial2, partial3], final_doc=docfinal)\n",
    "model.set_pond_data(area=area)\n"
   ]
  },
  {
   "cell_type": "code",
   "execution_count": 9,
   "metadata": {},
   "outputs": [
    {
     "data": {
      "text/plain": [
       "(24.722607086052864, 0)"
      ]
     },
     "execution_count": 9,
     "metadata": {},
     "output_type": "execute_result"
    }
   ],
   "source": [
    "model.single_operation_v2(0, 107,  alpha[0], alpha[1], alpha[2], alpha[3])\n",
    "\n",
    "# single_operation_v2(self, t0, t, alpha, alpha2, alpha3, alpha4):"
   ]
  },
  {
   "cell_type": "code",
   "execution_count": 14,
   "metadata": {},
   "outputs": [
    {
     "ename": "NameError",
     "evalue": "name 'np' is not defined",
     "output_type": "error",
     "traceback": [
      "\u001b[0;31m---------------------------------------------------------------------------\u001b[0m",
      "\u001b[0;31mNameError\u001b[0m                                 Traceback (most recent call last)",
      "\u001b[0;32m/var/folders/pg/3sr7t46900g4xmjmrwp347t40000gn/T/ipykernel_11161/317948245.py\u001b[0m in \u001b[0;36m<module>\u001b[0;34m\u001b[0m\n\u001b[0;32m----> 1\u001b[0;31m \u001b[0mnp\u001b[0m\u001b[0;34m.\u001b[0m\u001b[0mmean\u001b[0m\u001b[0;34m(\u001b[0m\u001b[0;34m[\u001b[0m\u001b[0;36m1\u001b[0m\u001b[0;34m,\u001b[0m\u001b[0;36m2\u001b[0m\u001b[0;34m,\u001b[0m\u001b[0;36m3\u001b[0m\u001b[0;34m]\u001b[0m\u001b[0;34m)\u001b[0m\u001b[0;34m\u001b[0m\u001b[0;34m\u001b[0m\u001b[0m\n\u001b[0m",
      "\u001b[0;31mNameError\u001b[0m: name 'np' is not defined"
     ]
    }
   ],
   "source": [
    "np.mean([1,2,3])"
   ]
  },
  {
   "cell_type": "code",
   "execution_count": 44,
   "metadata": {},
   "outputs": [],
   "source": [
    "from scipy.integrate import quad\n",
    "def weight(t0, t, w0, wn, alpha, constant_fr=1):\n",
    "    wt = (wn**(1/3) - (wn**(1/3) - w0**(1/3)) * np.exp(-alpha*(quad(lambda x: constant_fr, t0, t)[0])))**3\n",
    "    return wt"
   ]
  },
  {
   "cell_type": "code",
   "execution_count": 29,
   "metadata": {},
   "outputs": [],
   "source": [
    "import numpy as np\n",
    "def wt(t0, t, wn, w0, alpha):\n",
    "    return (wn ** (1 / 3) - (wn ** (1 / 3) - w0 ** (1 / 3)) * np.exp(-alpha * (t - t0))) ** 3"
   ]
  },
  {
   "cell_type": "code",
   "execution_count": 53,
   "metadata": {},
   "outputs": [
    {
     "data": {
      "text/plain": [
       "0.8174599113723466"
      ]
     },
     "execution_count": 53,
     "metadata": {},
     "output_type": "execute_result"
    }
   ],
   "source": [
    "wt(0, 120, 45, 0.05, 0.0020888602741601365)"
   ]
  },
  {
   "cell_type": "code",
   "execution_count": 56,
   "metadata": {},
   "outputs": [
    {
     "data": {
      "text/plain": [
       "21.9861564761668"
      ]
     },
     "execution_count": 56,
     "metadata": {},
     "output_type": "execute_result"
    }
   ],
   "source": [
    "weight(0, 120, 0.05, 45, 0.012)"
   ]
  },
  {
   "cell_type": "code",
   "execution_count": 64,
   "metadata": {},
   "outputs": [],
   "source": [
    "def test_wt(t,alpha, alpha2):\n",
    "    wn = 45\n",
    "    w0 = 0.05\n",
    "    t0 = 0\n",
    "\n",
    "    return (wn ** (1 / 3) - (wn ** (1 / 3) - w0 ** (1 / 3)) * np.exp(-alpha * ((t - t0) + alpha2))) ** 3"
   ]
  },
  {
   "cell_type": "code",
   "execution_count": 5,
   "metadata": {},
   "outputs": [
    {
     "ename": "NameError",
     "evalue": "name 'test_wt' is not defined",
     "output_type": "error",
     "traceback": [
      "\u001b[0;31m---------------------------------------------------------------------------\u001b[0m",
      "\u001b[0;31mNameError\u001b[0m                                 Traceback (most recent call last)",
      "\u001b[0;32m/var/folders/pg/3sr7t46900g4xmjmrwp347t40000gn/T/ipykernel_10264/1426565379.py\u001b[0m in \u001b[0;36m<module>\u001b[0;34m\u001b[0m\n\u001b[1;32m      1\u001b[0m \u001b[0;32mfrom\u001b[0m \u001b[0mscipy\u001b[0m\u001b[0;34m.\u001b[0m\u001b[0moptimize\u001b[0m \u001b[0;32mimport\u001b[0m \u001b[0mcurve_fit\u001b[0m\u001b[0;34m\u001b[0m\u001b[0;34m\u001b[0m\u001b[0m\n\u001b[1;32m      2\u001b[0m \u001b[0;34m\u001b[0m\u001b[0m\n\u001b[0;32m----> 3\u001b[0;31m \u001b[0mcurve_fit\u001b[0m\u001b[0;34m(\u001b[0m\u001b[0mtest_wt\u001b[0m\u001b[0;34m,\u001b[0m \u001b[0mdf\u001b[0m\u001b[0;34m[\u001b[0m\u001b[0;34m\"DOC\"\u001b[0m\u001b[0;34m]\u001b[0m\u001b[0;34m,\u001b[0m \u001b[0mdf\u001b[0m\u001b[0;34m[\u001b[0m\u001b[0;34m\"ABW\"\u001b[0m\u001b[0;34m]\u001b[0m\u001b[0;34m)\u001b[0m\u001b[0;34m\u001b[0m\u001b[0;34m\u001b[0m\u001b[0m\n\u001b[0m",
      "\u001b[0;31mNameError\u001b[0m: name 'test_wt' is not defined"
     ]
    }
   ],
   "source": [
    "from scipy.optimize import curve_fit\n",
    "\n",
    "curve_fit(test_wt, df[\"DOC\"], df[\"ABW\"])"
   ]
  },
  {
   "cell_type": "code",
   "execution_count": 5,
   "metadata": {},
   "outputs": [],
   "source": [
    "from lib.v2.shrimp_growth import ShrimpGrowth\n",
    "from lib.v2.par"
   ]
  },
  {
   "cell_type": "code",
   "execution_count": 15,
   "metadata": {},
   "outputs": [],
   "source": [
    "import pandas as pd"
   ]
  },
  {
   "cell_type": "code",
   "execution_count": 18,
   "metadata": {},
   "outputs": [],
   "source": [
    "df = pd.read_csv(\"data/growth1_xxx.csv\", sep=\";\")"
   ]
  },
  {
   "cell_type": "code",
   "execution_count": 22,
   "metadata": {},
   "outputs": [],
   "source": [
    "df[\"Temp\"] = df[\"Temp\"].interpolate()\n",
    "df[\"NH4\"] = df[\"NH4\"].interpolate()\n",
    "df[\"DO\"] = df[\"DO\"].interpolate()"
   ]
  },
  {
   "cell_type": "code",
   "execution_count": 24,
   "metadata": {},
   "outputs": [],
   "source": [
    "df.to_csv(\"data/growth_002.csv\", index=False)"
   ]
  },
  {
   "cell_type": "code",
   "execution_count": 25,
   "metadata": {},
   "outputs": [
    {
     "data": {
      "text/plain": [
       "<AxesSubplot:>"
      ]
     },
     "execution_count": 25,
     "metadata": {},
     "output_type": "execute_result"
    },
    {
     "data": {
      "image/png": "[encoded data removed]",
      "text/plain": [
       "<Figure size 432x288 with 1 Axes>"
      ]
     },
     "metadata": {
      "needs_background": "light"
     },
     "output_type": "display_data"
    }
   ],
   "source": [
    "df[\"Temp\"].hist()"
   ]
  },
  {
   "cell_type": "code",
   "execution_count": 27,
   "metadata": {},
   "outputs": [
    {
     "data": {
      "text/plain": [
       "count    365.000000\n",
       "mean      28.591644\n",
       "std        0.988689\n",
       "min       25.700000\n",
       "25%       27.800000\n",
       "50%       28.600000\n",
       "75%       29.500000\n",
       "max       30.900000\n",
       "Name: Temp, dtype: float64"
      ]
     },
     "execution_count": 27,
     "metadata": {},
     "output_type": "execute_result"
    }
   ],
   "source": [
    "df[\"Temp\"].describe()"
   ]
  },
  {
   "cell_type": "code",
   "execution_count": 28,
   "metadata": {},
   "outputs": [
    {
     "data": {
      "text/plain": [
       "count    365.000000\n",
       "mean       6.636548\n",
       "std        1.482822\n",
       "min        3.740000\n",
       "25%        5.610000\n",
       "50%        6.220000\n",
       "75%        7.270000\n",
       "max       11.890000\n",
       "Name: DO, dtype: float64"
      ]
     },
     "execution_count": 28,
     "metadata": {},
     "output_type": "execute_result"
    }
   ],
   "source": [
    "df[\"DO\"].describe()"
   ]
  },
  {
   "cell_type": "code",
   "execution_count": 29,
   "metadata": {},
   "outputs": [
    {
     "data": {
      "text/plain": [
       "count    365.000000\n",
       "mean       4.574110\n",
       "std        4.467244\n",
       "min        0.000000\n",
       "25%        0.800000\n",
       "50%        3.000000\n",
       "75%        8.000000\n",
       "max       20.000000\n",
       "Name: NH4, dtype: float64"
      ]
     },
     "execution_count": 29,
     "metadata": {},
     "output_type": "execute_result"
    }
   ],
   "source": [
    "df[\"NH4\"].describe()"
   ]
  },
  {
   "cell_type": "code",
   "execution_count": null,
   "metadata": {},
   "outputs": [],
   "source": []
  }
 ],
 "metadata": {
  "kernelspec": {
   "display_name": "Python 3.10.1 64-bit",
   "language": "python",
   "name": "python3"
  },
  "language_info": {
   "codemirror_mode": {
    "name": "ipython",
    "version": 3
   },
   "file_extension": ".py",
   "mimetype": "text/x-python",
   "name": "python",
   "nbconvert_exporter": "python",
   "pygments_lexer": "ipython3",
   "version": "3.10.1"
  },
  "orig_nbformat": 4,
  "vscode": {
   "interpreter": {
    "hash": "7e1998ff7f8aa20ada591c520b972326324e5ea05489af9e422744c7c09f6dad"
   }
  }
 },
 "nbformat": 4,
 "nbformat_minor": 2
}
