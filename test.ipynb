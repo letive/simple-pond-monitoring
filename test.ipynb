{
 "cells": [
  {
   "cell_type": "code",
   "execution_count": null,
   "metadata": {},
   "outputs": [],
   "source": [
    "from lib.v2.parameter_estimation import ParemeterEstimation\n",
    "\n",
    "estimator = ParemeterEstimation(path = \"data/growth_full2.csv\", sep=\";\", col_temp=\"Temp\", col_uia=\"NH4\", col_do=\"DO\", col_doc=\"DOC\")\n",
    "\n",
    "# intial setup\n",
    "estimator.set_data_for_interpolation(path = \"data/biochem.csv\")\n",
    "estimator.set_conditional_parameter(cond_temp=(25, 28, 32, 33), cond_uia=(0, 0.0001, 0.06, 1),\n",
    "                                cond_do=(4, 6, 9, 10), cond_csc=(0, 0, 0.5, 3))\n",
    "estimator.set_food_availablelity_data()\n",
    "estimator.set_growth_paremater(w0=0.05, wn=40, n0=100, sr=0.92)\n",
    "estimator.set_partial_harvest_parameter(doc=[60, 90, 100], ph=[0.1, 0.1, 0.1], final_doc=120)\n",
    "estimator.set_pond_data(area=1000)\n",
    "\n",
    "# estimator.fit()"
   ]
  },
  {
   "cell_type": "code",
   "execution_count": null,
   "metadata": {},
   "outputs": [],
   "source": [
    "import numpy as np\n",
    "T = 70\n",
    "sr = 0.92\n",
    "m = -np.log(sr)/T\n",
    "\n",
    "weight = []\n",
    "fr = []\n",
    "\n",
    "for t in range(1, T):\n",
    "    weight.append(estimator.single_operation(0, t, m, 0.046844136331559816, 0.09628233481397985, 0.09115163561079387, 0.029125989406487265, 0.05, 0.05))\n",
    "    fr.append(estimator.fr)\n",
    "\n",
    "# weight = [estimator.single_operation(0, t, m, 0.046844136331559816, 0.09628233481397985, 0.09115163561079387, 0.029125989406487265, 0.05, 0.05) for t in range(T) if t != 0]\n"
   ]
  },
  {
   "cell_type": "code",
   "execution_count": null,
   "metadata": {},
   "outputs": [],
   "source": [
    "import matplotlib.pyplot as plt"
   ]
  },
  {
   "cell_type": "code",
   "execution_count": null,
   "metadata": {},
   "outputs": [],
   "source": [
    "plt.plot(weight)"
   ]
  },
  {
   "cell_type": "code",
   "execution_count": 1,
   "metadata": {},
   "outputs": [],
   "source": [
    "import seaborn as sns"
   ]
  },
  {
   "cell_type": "code",
   "execution_count": 2,
   "metadata": {},
   "outputs": [],
   "source": [
    "df = sns.load_dataset(\"iris\")"
   ]
  },
  {
   "cell_type": "code",
   "execution_count": 3,
   "metadata": {},
   "outputs": [
    {
     "data": {
      "text/html": [
       "<div>\n",
       "<style scoped>\n",
       "    .dataframe tbody tr th:only-of-type {\n",
       "        vertical-align: middle;\n",
       "    }\n",
       "\n",
       "    .dataframe tbody tr th {\n",
       "        vertical-align: top;\n",
       "    }\n",
       "\n",
       "    .dataframe thead th {\n",
       "        text-align: right;\n",
       "    }\n",
       "</style>\n",
       "<table border=\"1\" class=\"dataframe\">\n",
       "  <thead>\n",
       "    <tr style=\"text-align: right;\">\n",
       "      <th></th>\n",
       "      <th>sepal_length</th>\n",
       "      <th>sepal_width</th>\n",
       "      <th>petal_length</th>\n",
       "      <th>petal_width</th>\n",
       "      <th>species</th>\n",
       "    </tr>\n",
       "  </thead>\n",
       "  <tbody>\n",
       "    <tr>\n",
       "      <th>0</th>\n",
       "      <td>5.1</td>\n",
       "      <td>3.5</td>\n",
       "      <td>1.4</td>\n",
       "      <td>0.2</td>\n",
       "      <td>setosa</td>\n",
       "    </tr>\n",
       "    <tr>\n",
       "      <th>1</th>\n",
       "      <td>4.9</td>\n",
       "      <td>3.0</td>\n",
       "      <td>1.4</td>\n",
       "      <td>0.2</td>\n",
       "      <td>setosa</td>\n",
       "    </tr>\n",
       "    <tr>\n",
       "      <th>2</th>\n",
       "      <td>4.7</td>\n",
       "      <td>3.2</td>\n",
       "      <td>1.3</td>\n",
       "      <td>0.2</td>\n",
       "      <td>setosa</td>\n",
       "    </tr>\n",
       "    <tr>\n",
       "      <th>3</th>\n",
       "      <td>4.6</td>\n",
       "      <td>3.1</td>\n",
       "      <td>1.5</td>\n",
       "      <td>0.2</td>\n",
       "      <td>setosa</td>\n",
       "    </tr>\n",
       "    <tr>\n",
       "      <th>4</th>\n",
       "      <td>5.0</td>\n",
       "      <td>3.6</td>\n",
       "      <td>1.4</td>\n",
       "      <td>0.2</td>\n",
       "      <td>setosa</td>\n",
       "    </tr>\n",
       "  </tbody>\n",
       "</table>\n",
       "</div>"
      ],
      "text/plain": [
       "   sepal_length  sepal_width  petal_length  petal_width species\n",
       "0           5.1          3.5           1.4          0.2  setosa\n",
       "1           4.9          3.0           1.4          0.2  setosa\n",
       "2           4.7          3.2           1.3          0.2  setosa\n",
       "3           4.6          3.1           1.5          0.2  setosa\n",
       "4           5.0          3.6           1.4          0.2  setosa"
      ]
     },
     "execution_count": 3,
     "metadata": {},
     "output_type": "execute_result"
    }
   ],
   "source": []
  },
  {
   "cell_type": "markdown",
   "metadata": {},
   "source": []
  },
  {
   "cell_type": "markdown",
   "metadata": {},
   "source": [
    "# Class and Method Researh"
   ]
  },
  {
   "cell_type": "code",
   "execution_count": 1,
   "metadata": {},
   "outputs": [],
   "source": [
    "import numpy as np\n",
    "from scipy.integrate import quad\n",
    "from scipy.interpolate import CubicSpline\n",
    "import pandas as pd\n",
    "import matplotlib.pyplot as plt"
   ]
  },
  {
   "cell_type": "code",
   "execution_count": null,
   "metadata": {},
   "outputs": [],
   "source": [
    "def normal_trapezoidal(m, suitable_min, suitable_max, optimal_min, optimal_max):\n",
    "    \"\"\"\n",
    "    m: value in t\n",
    "    \"\"\"\n",
    "    if np.isnan(m):\n",
    "        ret = 0.25\n",
    "    elif (m < suitable_min) or (m > suitable_max):\n",
    "        ret = 0\n",
    "    else:\n",
    "        ret = min(\n",
    "            (\n",
    "                (m - suitable_min) / (optimal_min - suitable_min),\n",
    "                1,\n",
    "                (suitable_max - m) / (suitable_max - optimal_max),\n",
    "            )\n",
    "        )\n",
    "\n",
    "    return ret\n",
    "\n",
    "\n",
    "def left_trapezoidal(m, suitable_min, suitable_max, optimal_max):\n",
    "    \"\"\"\n",
    "    m: value in t\n",
    "    \"\"\"\n",
    "    if np.isnan(m):\n",
    "        ret = 0.25\n",
    "    elif (m < suitable_min) or (m > suitable_max):\n",
    "        ret = 0\n",
    "    else:\n",
    "        ret = min((1, (suitable_max - m) / (suitable_max - optimal_max)))\n",
    "\n",
    "    return ret\n",
    "\n",
    "class Weight:\n",
    "    def __init__(self, t0, t, wn, w0, sr,\n",
    "        alpha, alpha2, alpha3, alpha4, alpha5, alpha6,\n",
    "        f_uia, f_o2, f_temp, score_csc, feeding_rate\n",
    "    ):\n",
    "        self.t0 = t0\n",
    "        self.t = t\n",
    "        self.wn = wn\n",
    "        self.w0 = w0\n",
    "        self.sr = sr\n",
    "        \n",
    "        self.alpha = alpha\n",
    "        self.alpha2 = alpha2\n",
    "        self.alpha3 = alpha3\n",
    "        self.alpha4 = alpha4\n",
    "        self.alpha5 = alpha5\n",
    "        self.alpha6 = alpha6\n",
    "\n",
    "    @staticmethod\n",
    "    def _f_temp(value, temp_suitable, temp_optimal):\n",
    "        res = normal_trapezoidal(value, temp_suitable[0], temp_suitable[1], temp_optimal[0], temp_optimal[1])\n",
    "        return res\n",
    "\n",
    "    @staticmethod\n",
    "    def _f_uia(value, uia_suitable, uia_optimal):\n",
    "        res = left_trapezoidal(value, uia_suitable[0], uia_suitable[1], uia_optimal[0], uia_optimal[1])\n",
    "        return res\n",
    "\n",
    "    @staticmethod\n",
    "    def _f_o2(value, do_suitable, do_optimal):\n",
    "        res = normal_trapezoidal(value, do_suitable[0], do_suitable[1], do_optimal[0], do_optimal[1])\n",
    "        return res\n",
    "\n",
    "    @staticmethod\n",
    "    def score_csc(value, csc_suitable, csc_optimal):\n",
    "        pass\n",
    "\n",
    "    # @staticmethod\n",
    "    # def feeding_rate(value, csc_suitable, csc_optimal):\n",
    "    #     pass\n",
    "\n",
    "    def get_weight(self):\n",
    "        pass\n",
    "\n",
    "        \n",
    "\n",
    "    "
   ]
  },
  {
   "cell_type": "code",
   "execution_count": null,
   "metadata": {},
   "outputs": [],
   "source": [
    "# f_uia, f_o2, f_temp, temperature = source_data(\n",
    "#     # path = \"data/growth_full2.csv\",\n",
    "#     path = None,\n",
    "#     temp_suitable_min = 25,\n",
    "#     temp_suitable_max = 33,\n",
    "#     temp_optimal_min = 28,\n",
    "#     temp_optimal_max = 32,\n",
    "#     do_suitable_min = 4,\n",
    "#     do_suitable_max = 10,\n",
    "#     do_optimal_min = 6,\n",
    "#     do_optimal_max = 9,\n",
    "#     ua_suitable_min = 0.00,\n",
    "#     ua_suitable_max = 0.16,\n",
    "#     ua_optimal_min = 0.00,\n",
    "#     ua_optimal_max = 0.06,\n",
    "# )\n",
    "\n",
    "# csc_suitable_min = 0.00\n",
    "# csc_suitable_max = 5\n",
    "# csc_optimal_min = 0.00\n",
    "# csc_optimal_max = 3"
   ]
  }
 ],
 "metadata": {
  "kernelspec": {
   "display_name": "Python 3.10.1 64-bit",
   "language": "python",
   "name": "python3"
  },
  "language_info": {
   "codemirror_mode": {
    "name": "ipython",
    "version": 3
   },
   "file_extension": ".py",
   "mimetype": "text/x-python",
   "name": "python",
   "nbconvert_exporter": "python",
   "pygments_lexer": "ipython3",
   "version": "3.10.1"
  },
  "orig_nbformat": 4,
  "vscode": {
   "interpreter": {
    "hash": "7e1998ff7f8aa20ada591c520b972326324e5ea05489af9e422744c7c09f6dad"
   }
  }
 },
 "nbformat": 4,
 "nbformat_minor": 2
}
