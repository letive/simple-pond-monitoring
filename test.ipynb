{
 "cells": [
  {
   "cell_type": "code",
   "execution_count": 1,
   "metadata": {},
   "outputs": [],
   "source": [
    "from metrices import Compute\n",
    "from biomass import Biomassa\n",
    "from helpers import price_function, source_data, score_csc_compute\n",
    "from feeding_rate import feeding_rate\n",
    "\n",
    "import numpy as np\n",
    "\n",
    "\n",
    "f_uia, f_o2, f_temp, temperature = source_data(\n",
    "    temp_suitable_min = 25,\n",
    "    temp_suitable_max = 33,\n",
    "    temp_optimal_min = 28,\n",
    "    temp_optimal_max = 32,\n",
    "    do_suitable_min = 4,\n",
    "    do_suitable_max = 10,\n",
    "    do_optimal_min = 6,\n",
    "    do_optimal_max = 9,\n",
    "    ua_suitable_min = 0.00,\n",
    "    ua_suitable_max = 0.16,\n",
    "    ua_optimal_min = 0.00,\n",
    "    ua_optimal_max = 0.06,\n",
    ")\n",
    "\n",
    "\n",
    "csc_suitable_min = 0.00\n",
    "csc_suitable_max = 5\n",
    "csc_optimal_min = 0.00\n",
    "csc_optimal_max = 3\n"
   ]
  },
  {
   "cell_type": "code",
   "execution_count": 2,
   "metadata": {},
   "outputs": [
    {
     "name": "stdout",
     "output_type": "stream",
     "text": [
      "[0.1, 0.1, 0.1, 0.62]\n",
      "[0.1, 0.1, 0.1, 0.62]\n"
     ]
    }
   ],
   "source": [
    "T = 120\n",
    "sr = 0.92\n",
    "\n",
    "m = -np.log(sr)/T\n",
    "\n",
    "weight = []\n",
    "biomassa = []\n",
    "revenue = []\n",
    "population = []\n",
    "f = price_function(\"data/fixed_price.csv\")\n",
    "\n",
    "cum_integral = 0\n",
    "for i in range(T+1):\n",
    "    if i == 0:\n",
    "        score_csc = score_csc_compute(0/1000, 0.01, csc_suitable_min, csc_suitable_max, csc_optimal_max)\n",
    "        feedRate = feeding_rate(0, float(temperature[temperature[\"DOC\"]==i-1][\"Suhu_s\"]), 0)\n",
    "        obj = Biomassa(0, i, 40, 0.05, 0.01, 100, sr, m, [0.1, 0.1, 0.1], [60, 70, 80], f_uia, f_o2, f_temp, score_csc, feedRate, cum_integral, final_doc=120)\n",
    "        wt = obj.wt()\n",
    "        nt = obj.population()\n",
    "        biomass = obj.biomassa()\n",
    "        constant_biomass = obj.biomassa_constant()\n",
    "        cum_integral = obj._fr()\n",
    "        ph = Compute(0, i, [60, 70, 80], wt, nt, biomass, 0, constant_biomass, 120)\n",
    "    else:\n",
    "        score_csc = score_csc_compute(biomassa[-1]/1000, 1000, csc_suitable_min, csc_suitable_max, csc_optimal_max)\n",
    "        feedRate = feeding_rate(weight[-1], float(temperature[temperature[\"DOC\"]==i-1][\"Suhu_s\"]), biomassa[-1]/1000)\n",
    "        obj = Biomassa(i-1, i, 40, 0.05, 0.01, 100, sr, m, [0.1, 0.1, 0.1], [60, 70, 80], f_uia, f_o2, f_temp, score_csc, feedRate, cum_integral, 120)\n",
    "        wt = obj.wt()\n",
    "        nt = obj.population()\n",
    "        biomass = obj.biomassa()\n",
    "        constant_biomass = obj.biomassa_constant()\n",
    "        cum_integral = obj._fr()\n",
    "        ph = Compute(0, i, [60, 70, 80], wt, nt, biomass, biomassa[-1], constant_biomass, 120)\n",
    "\n",
    "    weight.append(wt)\n",
    "    biomassa.append(biomass)\n",
    "    population.append(nt)\n",
    "    revenue.append(ph.realized_revenue(f))"
   ]
  },
  {
   "cell_type": "code",
   "execution_count": 3,
   "metadata": {},
   "outputs": [
    {
     "data": {
      "text/plain": [
       "[<matplotlib.lines.Line2D at 0x1233417b0>]"
      ]
     },
     "execution_count": 3,
     "metadata": {},
     "output_type": "execute_result"
    },
    {
     "data": {
      "image/png": "[encoded data removed]",
      "text/plain": [
       "<Figure size 432x288 with 1 Axes>"
      ]
     },
     "metadata": {
      "needs_background": "light"
     },
     "output_type": "display_data"
    }
   ],
   "source": [
    "import matplotlib.pyplot as plt\n",
    "\n",
    "x = list(range(T+1))\n",
    "plt.plot(x, biomassa)"
   ]
  },
  {
   "cell_type": "code",
   "execution_count": 7,
   "metadata": {},
   "outputs": [
    {
     "data": {
      "text/plain": [
       "[<matplotlib.lines.Line2D at 0x120cb2ef0>]"
      ]
     },
     "execution_count": 7,
     "metadata": {},
     "output_type": "execute_result"
    },
    {
     "data": {
      "image/png": "[encoded data removed]",
      "text/plain": [
       "<Figure size 432x288 with 1 Axes>"
      ]
     },
     "metadata": {
      "needs_background": "light"
     },
     "output_type": "display_data"
    }
   ],
   "source": [
    "import numpy as np\n",
    "cum_revenue = np.cumsum(revenue)\n",
    "plt.plot(x, cum_revenue)"
   ]
  },
  {
   "cell_type": "code",
   "execution_count": 6,
   "metadata": {},
   "outputs": [],
   "source": [
    "from scipy.integrate import quad"
   ]
  },
  {
   "cell_type": "code",
   "execution_count": 7,
   "metadata": {},
   "outputs": [
    {
     "data": {
      "text/plain": [
       "(25.0, 2.7755575615628914e-13)"
      ]
     },
     "execution_count": 7,
     "metadata": {},
     "output_type": "execute_result"
    }
   ],
   "source": [
    "quad(lambda x: 2*x, 0, 5)"
   ]
  },
  {
   "cell_type": "code",
   "execution_count": 9,
   "metadata": {},
   "outputs": [
    {
     "data": {
      "text/plain": [
       "(4.0, 4.440892098500626e-14)"
      ]
     },
     "execution_count": 9,
     "metadata": {},
     "output_type": "execute_result"
    }
   ],
   "source": [
    "quad(lambda x: 2*x, 0, 2)"
   ]
  },
  {
   "cell_type": "code",
   "execution_count": 10,
   "metadata": {},
   "outputs": [
    {
     "data": {
      "text/plain": [
       "(21.0, 2.3314683517128287e-13)"
      ]
     },
     "execution_count": 10,
     "metadata": {},
     "output_type": "execute_result"
    }
   ],
   "source": [
    "quad(lambda x: 2*x, 2, 5)"
   ]
  },
  {
   "cell_type": "code",
   "execution_count": 8,
   "metadata": {},
   "outputs": [],
   "source": [
    "def fungsi():\n",
    "    global variable\n",
    "    variable = \"a\""
   ]
  },
  {
   "cell_type": "code",
   "execution_count": 9,
   "metadata": {},
   "outputs": [],
   "source": [
    "fungsi()"
   ]
  },
  {
   "cell_type": "code",
   "execution_count": 10,
   "metadata": {},
   "outputs": [
    {
     "data": {
      "text/plain": [
       "'a'"
      ]
     },
     "execution_count": 10,
     "metadata": {},
     "output_type": "execute_result"
    }
   ],
   "source": [
    "variable"
   ]
  },
  {
   "cell_type": "code",
   "execution_count": null,
   "metadata": {},
   "outputs": [],
   "source": []
  }
 ],
 "metadata": {
  "kernelspec": {
   "display_name": "Python 3.10.1 64-bit",
   "language": "python",
   "name": "python3"
  },
  "language_info": {
   "codemirror_mode": {
    "name": "ipython",
    "version": 3
   },
   "file_extension": ".py",
   "mimetype": "text/x-python",
   "name": "python",
   "nbconvert_exporter": "python",
   "pygments_lexer": "ipython3",
   "version": "3.10.1"
  },
  "orig_nbformat": 4,
  "vscode": {
   "interpreter": {
    "hash": "7e1998ff7f8aa20ada591c520b972326324e5ea05489af9e422744c7c09f6dad"
   }
  }
 },
 "nbformat": 4,
 "nbformat_minor": 2
}
