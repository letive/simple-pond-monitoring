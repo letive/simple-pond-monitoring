{
 "cells": [
  {
   "cell_type": "code",
   "execution_count": null,
   "metadata": {},
   "outputs": [],
   "source": [
    "import numpy as np\n",
    "import pandas as pd\n",
    "\n",
    "def normal_trapezoidal(m, suitable_min, suitable_max, optimal_min, optimal_max):\n",
    "    \"\"\"\n",
    "    m: value in t\n",
    "    \"\"\"\n",
    "    if np.isnan(m):\n",
    "        ret = 0.25\n",
    "    elif m < suitable_min:\n",
    "        ret = 0 \n",
    "    elif m > suitable_max:\n",
    "        ret = 0\n",
    "    else:\n",
    "        ret = min(((m-suitable_min)/(optimal_min-suitable_min), 1, (suitable_max-m)/(suitable_max-optimal_max)))\n",
    "        \n",
    "    return ret\n",
    "\n",
    "def left_trapezoidal(m, suitable_min, suitable_max, optimal_max):\n",
    "    \"\"\"\n",
    "    m: value in t\n",
    "    \"\"\"\n",
    "    if np.isnan(m):\n",
    "        ret = 0.25\n",
    "    elif m < suitable_min:\n",
    "        ret = 0\n",
    "    elif m > suitable_max:\n",
    "        ret = 0\n",
    "    else:\n",
    "        ret = min((1, (suitable_max-m)/(suitable_max-optimal_max)))\n",
    "\n",
    "    return ret"
   ]
  },
  {
   "cell_type": "code",
   "execution_count": null,
   "metadata": {},
   "outputs": [],
   "source": [
    "temp_suitable_min = 25\n",
    "temp_suitable_max = 33\n",
    "temp_optimal_min = 28\n",
    "temp_optimal_max = 32\n",
    "do_suitable_min = 4\n",
    "do_suitable_max = 10\n",
    "do_optimal_min = 6\n",
    "do_optimal_max = 9\n",
    "ua_suitable_min = 0.00\n",
    "ua_suitable_max = 0.16\n",
    "ua_optimal_min = 0.00\n",
    "ua_optimal_max = 0.06\n",
    "\n",
    "def source_data(**kwargs):\n",
    "    chem = pd.read_csv(\"data/data_chemical_v2.csv\")\n",
    "    bio = pd.read_csv(\"data/data_sample - biological.csv\")\n",
    "\n",
    "    doc = chem[\"Doc\"].tolist()\n",
    "    \n",
    "    score_uia = []\n",
    "    score_o2 = []\n",
    "    score_temp = []\n",
    "\n",
    "    for i in doc:\n",
    "        score_uia.append(left_trapezoidal(chem[chem[\"Doc\"] == i][\"uia\"].values[0],\n",
    "                            kwargs[\"ua_suitable_min\"], kwargs[\"ua_suitable_max\"], kwargs[\"ua_optimal_max\"]))\n",
    "        \n",
    "        score_o2.append(normal_trapezoidal(bio[bio[\"DOC\"] == i][\"DO_s\"].values[0],\n",
    "                            kwargs[\"do_suitable_min\"], kwargs[\"do_suitable_max\"],\n",
    "                            kwargs[\"do_optimal_min\"], kwargs[\"do_optimal_max\"]))\n",
    "        \n",
    "        score_temp.append(normal_trapezoidal(bio[bio[\"DOC\"] == i][\"Suhu_s\"].values[0],\n",
    "                            kwargs[\"temp_suitable_min\"], kwargs[\"temp_suitable_max\"],\n",
    "                            kwargs[\"temp_optimal_min\"], kwargs[\"temp_optimal_max\"]))\n",
    "\n",
    "\n",
    "    f_uia = CubicSpline(doc, score_uia)\n",
    "    f_o2 = CubicSpline(doc, score_o2)\n",
    "    f_temp = CubicSpline(doc, score_temp)\n",
    "\n",
    "    return f_uia, f_o2, f_temp"
   ]
  },
  {
   "cell_type": "code",
   "execution_count": null,
   "metadata": {},
   "outputs": [],
   "source": [
    "def integrate_condition(t):\n",
    "    f_uia, f_o2, f_temp = source_data(\n",
    "        temp_suitable_min = 25,\n",
    "        temp_suitable_max = 33,\n",
    "        temp_optimal_min = 28,\n",
    "        temp_optimal_max = 32,\n",
    "        do_suitable_min = 4,\n",
    "        do_suitable_max = 10,\n",
    "        do_optimal_min = 6,\n",
    "        do_optimal_max = 9,\n",
    "        ua_suitable_min = 0.00,\n",
    "        ua_suitable_max = 0.16,\n",
    "        ua_optimal_min = 0.00,\n",
    "        ua_optimal_max = 0.06\n",
    "    )\n",
    "    uia = f_uia(t)\n",
    "    o2 = f_o2(t)\n",
    "    temp = f_temp(t)\n",
    "    \n",
    "    return uia+o2+temp"
   ]
  },
  {
   "cell_type": "code",
   "execution_count": null,
   "metadata": {},
   "outputs": [],
   "source": [
    "# quad(integrate_condition, 1, 2)\n",
    "f_uia, f_o2, f_temp = source_data(\n",
    "        temp_suitable_min = 25,\n",
    "        temp_suitable_max = 33,\n",
    "        temp_optimal_min = 28,\n",
    "        temp_optimal_max = 32,\n",
    "        do_suitable_min = 4,\n",
    "        do_suitable_max = 10,\n",
    "        do_optimal_min = 6,\n",
    "        do_optimal_max = 9,\n",
    "        ua_suitable_min = 0.00,\n",
    "        ua_suitable_max = 0.16,\n",
    "        ua_optimal_min = 0.00,\n",
    "        ua_optimal_max = 0.06\n",
    "    )"
   ]
  },
  {
   "cell_type": "code",
   "execution_count": null,
   "metadata": {},
   "outputs": [],
   "source": [
    "class Fungsi:\n",
    "\n",
    "    def __init__(self, a, b, f_uia, f_o2, f_temp):\n",
    "\n",
    "        self.a = a\n",
    "        self.b = b\n",
    "\n",
    "        self.f_uia = f_uia\n",
    "        self.f_o2 = f_o2\n",
    "        self.f_temp = f_temp\n",
    "\n",
    "    def _integrate_function(self, t):\n",
    "        if any((self.f_temp(t) == 0, self.f_o2(t) == 0, self.f_uia(t) == 0)):\n",
    "            return 0\n",
    "        else:\n",
    "            return self.f_temp(t) + self.f_o2(t) + self.f_uia(t)\n",
    "\n",
    "    def get_integral(self):\n",
    "        return quad(self._integrate_function, self.a, self.b, epsabs = 1e-4, limit=1000)"
   ]
  },
  {
   "cell_type": "code",
   "execution_count": null,
   "metadata": {},
   "outputs": [],
   "source": [
    "f_uia, f_o2, f_temp = source_data(\n",
    "        temp_suitable_min = 25,\n",
    "        temp_suitable_max = 33,\n",
    "        temp_optimal_min = 28,\n",
    "        temp_optimal_max = 32,\n",
    "        do_suitable_min = 4,\n",
    "        do_suitable_max = 10,\n",
    "        do_optimal_min = 6,\n",
    "        do_optimal_max = 9,\n",
    "        ua_suitable_min = 0.00,\n",
    "        ua_suitable_max = 0.16,\n",
    "        ua_optimal_min = 0.00,\n",
    "        ua_optimal_max = 0.06\n",
    "    )\n",
    "\n",
    "# T = 120\n",
    "Fungsi(1, 120, f_uia, f_o2, f_temp).get_integral()[0]"
   ]
  },
  {
   "cell_type": "code",
   "execution_count": null,
   "metadata": {},
   "outputs": [],
   "source": []
  },
  {
   "cell_type": "code",
   "execution_count": null,
   "metadata": {},
   "outputs": [],
   "source": [
    "from lib.helpers import heaviside_step\n",
    "class PartialHarvest:\n",
    "    def __init__(self, t0, t, wn, w0, alpha, n0: int, sr: float, m: float, \n",
    "        ph: list, doc: list, final_doc:int = 120,):\n",
    "        self.t0 = t0\n",
    "        self.t = t\n",
    "        self.wn = wn\n",
    "        self.w0 = w0\n",
    "        self.alpha = alpha\n",
    "        self.n0 = n0\n",
    "        self.sr = sr\n",
    "        self.m = m\n",
    "        self.ph = ph\n",
    "        self.doc = doc\n",
    "        self.final_doc = final_doc\n",
    "\n",
    "        # self.biomassa_n_1 = biomass_n_1\n",
    "        # self.area = area\n",
    "\n",
    "\n",
    "    def _fr(self, temp_suitable_min = 25,\n",
    "        temp_suitable_max = 33,\n",
    "        temp_optimal_min = 28,\n",
    "        temp_optimal_max = 32,\n",
    "        do_suitable_min = 4,\n",
    "        do_suitable_max = 10,\n",
    "        do_optimal_min = 6,\n",
    "        do_optimal_max = 9,\n",
    "        ua_suitable_min = 0.00,\n",
    "        ua_suitable_max = 0.16,\n",
    "        ua_optimal_min = 0.00,\n",
    "        ua_optimal_max = 0.06):\n",
    "        return Fungsi(self.t0, self.t).get_integral()[0]\n",
    "\n",
    "    def wt(self):\n",
    "        return (self.wn**(1/3) - (self.wn**(1/3) - self.w0**(1/3)) * np.exp(-self.alpha * self._fr()))**3\n",
    "\n",
    "    def population(self):\n",
    "        partial_harvest = []\n",
    "        for i, j in enumerate(self.doc):\n",
    "            partial_harvest.append(self.ph[i] * heaviside_step(self.t - j))\n",
    "\n",
    "        if self.t >= self.final_doc:           \n",
    "            partial_harvest.append((self.sr - sum(self.ph)) * heaviside_step(self.t - self.final_doc))\n",
    "        \n",
    "        result = self.n0 * (np.exp(-self.m * self.t) - sum(partial_harvest))\n",
    "        return result\n",
    "\n",
    "\n",
    "    def biomassa(self):\n",
    "        # biomassa in gram\n",
    "        result = self.wt() * self.population()\n",
    "        return result\n",
    "\n"
   ]
  },
  {
   "cell_type": "code",
   "execution_count": null,
   "metadata": {},
   "outputs": [],
   "source": []
  },
  {
   "cell_type": "code",
   "execution_count": null,
   "metadata": {},
   "outputs": [],
   "source": [
    "from test import source_data as sd\n",
    "f_uia, f_o2, f_temp, score_csc = sd(\n",
    "        temp_suitable_min = 25,\n",
    "        temp_suitable_max = 33,\n",
    "        temp_optimal_min = 28,\n",
    "        temp_optimal_max = 32,\n",
    "        do_suitable_min = 4,\n",
    "        do_suitable_max = 10,\n",
    "        do_optimal_min = 6,\n",
    "        do_optimal_max = 9,\n",
    "        ua_suitable_min = 0.00,\n",
    "        ua_suitable_max = 0.16,\n",
    "        ua_optimal_min = 0.00,\n",
    "        ua_optimal_max = 0.06,\n",
    "        csc_suitable_min = 0.00,\n",
    "        csc_suitable_max = 0.5,\n",
    "        csc_optimal_min = 0.00,\n",
    "        csc_optimal_max = 5\n",
    "    )"
   ]
  },
  {
   "cell_type": "code",
   "execution_count": null,
   "metadata": {},
   "outputs": [],
   "source": [
    "from biomass import baseBiomass\n",
    "\n",
    "obj = baseBiomass(0, 60, 75, 0.05, 0.0013, 3400, 0.98, 0.002, [0.1, 0.1, 0.1], [60, 70, 80], f_uia, f_o2, f_temp, score_csc)\n",
    "obj.biomassa()"
   ]
  },
  {
   "cell_type": "code",
   "execution_count": 1,
   "metadata": {},
   "outputs": [],
   "source": [
    "from partial_harvest import PartialHarvest\n",
    "from biomass import source_data, baseBiomass, left_trapezoidal\n",
    "from lib.helpers import price_function\n",
    "\n",
    "def score_csc_compute(biomass, volume,\n",
    "        csc_suitable_min = 0.00,\n",
    "        csc_suitable_max = 0.5,\n",
    "        csc_optimal_max = 5):\n",
    "    \n",
    "    return left_trapezoidal(biomass/volume, csc_suitable_min, csc_suitable_max, csc_optimal_max)\n",
    "\n",
    "f_uia, f_o2, f_temp = source_data(\n",
    "    temp_suitable_min = 25,\n",
    "    temp_suitable_max = 33,\n",
    "    temp_optimal_min = 28,\n",
    "    temp_optimal_max = 32,\n",
    "    do_suitable_min = 4,\n",
    "    do_suitable_max = 10,\n",
    "    do_optimal_min = 6,\n",
    "    do_optimal_max = 9,\n",
    "    ua_suitable_min = 0.00,\n",
    "    ua_suitable_max = 0.16,\n",
    "    ua_optimal_min = 0.00,\n",
    "    ua_optimal_max = 0.06,\n",
    ")\n",
    "\n",
    "\n",
    "csc_suitable_min = 0.00\n",
    "csc_suitable_max = 0.5\n",
    "csc_optimal_min = 0.00\n",
    "csc_optimal_max = 5\n",
    "\n",
    "# score_csc = score_csc_compute(0, 1000, csc_suitable_min, csc_suitable_max, csc_optimal_max)\n"
   ]
  },
  {
   "cell_type": "code",
   "execution_count": 2,
   "metadata": {},
   "outputs": [
    {
     "name": "stdout",
     "output_type": "stream",
     "text": [
      "0\n",
      "0\n",
      "0\n",
      "0\n",
      "0\n",
      "0\n",
      "0\n",
      "0\n",
      "0\n",
      "0\n",
      "0\n",
      "0\n",
      "0\n",
      "0\n",
      "0\n",
      "0\n",
      "0\n",
      "0\n",
      "0\n",
      "0\n",
      "0\n",
      "0\n",
      "0\n",
      "0\n",
      "0\n",
      "0\n",
      "0\n",
      "0\n",
      "0\n",
      "0\n",
      "0\n",
      "0\n",
      "0\n",
      "0\n",
      "0\n",
      "0\n",
      "0\n",
      "0\n",
      "0\n",
      "0\n",
      "0\n",
      "0\n",
      "0\n",
      "0\n",
      "0\n",
      "0\n",
      "0\n",
      "0\n",
      "0\n",
      "0\n",
      "0\n",
      "0\n",
      "0\n",
      "0\n",
      "0\n",
      "0\n",
      "0\n",
      "0\n",
      "0\n",
      "0\n",
      "3655.7715344467233\n",
      "0\n",
      "0\n",
      "0\n",
      "0\n",
      "0\n",
      "0\n",
      "0\n",
      "0\n",
      "0\n",
      "3906.7720017767188\n",
      "0\n",
      "0\n",
      "0\n",
      "0\n",
      "0\n",
      "0\n",
      "0\n",
      "0\n",
      "0\n",
      "3995.0834710786876\n",
      "0\n"
     ]
    }
   ],
   "source": [
    "T = 82\n",
    "\n",
    "weight = []\n",
    "biomassa = []\n",
    "revenue = []\n",
    "f = price_function(\"data/fixed_price.csv\")\n",
    "for i in range(T):\n",
    "    if i == 0:\n",
    "        score_csc = score_csc_compute(0, 1000, csc_suitable_min, csc_suitable_max, csc_optimal_max)\n",
    "        obj = baseBiomass(0, i, 75, 0.05, 0.0013, 3400, 0.98, 0.002, [0.1, 0.1, 0.1], [60, 70, 80], f_uia, f_o2, f_temp, score_csc, 120)\n",
    "        ph = PartialHarvest(0, i, [60, 70, 80], obj.wt(), obj.population(), obj.biomassa(), 0, 120)\n",
    "    else:\n",
    "        score_csc = score_csc_compute(biomassa[-1], 1000, csc_suitable_min, csc_suitable_max, csc_optimal_max)\n",
    "        obj = baseBiomass(0, i, 75, 0.05, 0.0013, 3400, 0.98, 0.002, [0.1, 0.1, 0.1], [60, 70, 80], f_uia, f_o2, f_temp, score_csc, 120)\n",
    "        ph = PartialHarvest(0, i, [60, 70, 80], obj.wt(), obj.population(), obj.biomassa(), biomassa[-1], 120)\n",
    "    \n",
    "    weight.append(obj.wt())\n",
    "    biomassa.append(obj.biomassa())\n",
    "    revenue.append(ph.realized_revenue(f))\n",
    "    \n",
    "    \n",
    "    "
   ]
  },
  {
   "cell_type": "code",
   "execution_count": 4,
   "metadata": {},
   "outputs": [
    {
     "data": {
      "text/plain": [
       "[<matplotlib.lines.Line2D at 0x1212b62f0>]"
      ]
     },
     "execution_count": 4,
     "metadata": {},
     "output_type": "execute_result"
    },
    {
     "data": {
      "image/png": "[encoded data removed]",
      "text/plain": [
       "<Figure size 432x288 with 1 Axes>"
      ]
     },
     "metadata": {
      "needs_background": "light"
     },
     "output_type": "display_data"
    }
   ],
   "source": [
    "import matplotlib.pyplot as plt\n",
    "\n",
    "x = list(range(T))\n",
    "plt.plot(x, weight)"
   ]
  },
  {
   "cell_type": "code",
   "execution_count": 5,
   "metadata": {},
   "outputs": [
    {
     "data": {
      "text/plain": [
       "[<matplotlib.lines.Line2D at 0x123b2fac0>]"
      ]
     },
     "execution_count": 5,
     "metadata": {},
     "output_type": "execute_result"
    },
    {
     "data": {
      "image/png": "[encoded data removed]",
      "text/plain": [
       "<Figure size 432x288 with 1 Axes>"
      ]
     },
     "metadata": {
      "needs_background": "light"
     },
     "output_type": "display_data"
    }
   ],
   "source": [
    "import numpy as np\n",
    "cum_revenue = np.cumsum(revenue)\n",
    "plt.plot(x, cum_revenue)"
   ]
  },
  {
   "cell_type": "code",
   "execution_count": 5,
   "metadata": {},
   "outputs": [
    {
     "data": {
      "text/plain": [
       "1.2451120011561025"
      ]
     },
     "execution_count": 5,
     "metadata": {},
     "output_type": "execute_result"
    }
   ],
   "source": [
    "weight[60]"
   ]
  },
  {
   "cell_type": "code",
   "execution_count": null,
   "metadata": {},
   "outputs": [],
   "source": []
  }
 ],
 "metadata": {
  "kernelspec": {
   "display_name": "Python 3.10.1 64-bit",
   "language": "python",
   "name": "python3"
  },
  "language_info": {
   "codemirror_mode": {
    "name": "ipython",
    "version": 3
   },
   "file_extension": ".py",
   "mimetype": "text/x-python",
   "name": "python",
   "nbconvert_exporter": "python",
   "pygments_lexer": "ipython3",
   "version": "3.10.1"
  },
  "orig_nbformat": 4,
  "vscode": {
   "interpreter": {
    "hash": "7e1998ff7f8aa20ada591c520b972326324e5ea05489af9e422744c7c09f6dad"
   }
  }
 },
 "nbformat": 4,
 "nbformat_minor": 2
}
